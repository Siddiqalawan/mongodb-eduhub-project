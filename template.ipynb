{
 "cells": [
  {
   "cell_type": "code",
   "execution_count": 3,
   "id": "3fe6ca44",
   "metadata": {},
   "outputs": [],
   "source": [
    "import os\n",
    "\n",
    "folders = [\"notebooks\", \"src\", \"data\", \"docs\"]\n",
    "files = [\n",
    "    \"notebooks/eduhub_mongodb_project.ipynb\",\n",
    "    \"src/eduhub_queries.py\",\n",
    "    \"data/sample_data.json\",\n",
    "    \"data/schema_validation.json\",\n",
    "    \"docs/performance_analysis.md\",\n",
    "    \"docs/presentation.pptx\",\n",
    "    \"docs/test_results.md\"\n",
    "]\n",
    "\n",
    "# Create folders\n",
    "for folder in folders:\n",
    "    os.makedirs(folder, exist_ok=True)\n",
    "\n",
    "# Create empty files\n",
    "for file in files:\n",
    "    with open(file, \"w\") as f:\n",
    "        pass\n"
   ]
  }
 ],
 "metadata": {
  "kernelspec": {
   "display_name": "eduhub",
   "language": "python",
   "name": "python3"
  },
  "language_info": {
   "codemirror_mode": {
    "name": "ipython",
    "version": 3
   },
   "file_extension": ".py",
   "mimetype": "text/x-python",
   "name": "python",
   "nbconvert_exporter": "python",
   "pygments_lexer": "ipython3",
   "version": "3.10.18"
  }
 },
 "nbformat": 4,
 "nbformat_minor": 5
}
