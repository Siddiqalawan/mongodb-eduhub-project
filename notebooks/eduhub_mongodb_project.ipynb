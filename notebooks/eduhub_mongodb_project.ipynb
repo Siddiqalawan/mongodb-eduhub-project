{
 "cells": [
  {
   "cell_type": "markdown",
   "id": "ac1ace55",
   "metadata": {},
   "source": [
    "## PART 1 : DATABASE SETUP AND DATA MODELLING"
   ]
  },
  {
   "cell_type": "markdown",
   "id": "88eee0eb",
   "metadata": {},
   "source": [
    " Task 1.1 create database and collection "
   ]
  },
  {
   "cell_type": "code",
   "execution_count": 8,
   "id": "d029216d",
   "metadata": {},
   "outputs": [
    {
     "name": "stdout",
     "output_type": "stream",
     "text": [
      "Connected to MongoDB and 'eduhub_db' is ready.\n"
     ]
    }
   ],
   "source": [
    "# EduHub MongoDB Backend Builder\n",
    "from pymongo import MongoClient\n",
    "from faker import Faker\n",
    "from datetime import datetime, timedelta\n",
    "import random\n",
    "import pandas as pd\n",
    "from bson import ObjectId\n",
    "import pprint as pp\n",
    "#from dotenv import load_dotenv\n",
    "import os\n",
    "\n",
    "# Load environment variables from .env file\n",
    "#load_dotenv()\n",
    "\n",
    "# Get the MongoDB connection string from environment\n",
    "connection_string = os.getenv(\"MONGODB_URI\")\n",
    "\n",
    "\n",
    "# Step 1: Create a client to connect to your MongoDB Atlas cluster\n",
    "client = MongoClient(connection_string)\n",
    "\n",
    "# Step 2: Create  the 'eduhub_db' database\n",
    "db = client['eduhub_db']\n",
    "fake = Faker()\n",
    "\n",
    "print(\"Connected to MongoDB and 'eduhub_db' is ready.\")\n"
   ]
  },
  {
   "cell_type": "code",
   "execution_count": 6,
   "id": "066b6f39",
   "metadata": {},
   "outputs": [],
   "source": [
    "# create collections\n",
    "users_col = db[\"users\"]\n",
    "courses_col = db[\"courses\"]\n",
    "enrollments_col = db[\"enrollments\"]\n",
    "lessons_col = db[\"lessons\"]\n",
    "assignments_col = db[\"assignments\"]\n",
    "submissions_col = db[\"submissions\"]"
   ]
  },
  {
   "cell_type": "markdown",
   "id": "d78d388e",
   "metadata": {},
   "source": [
    "## Task 1.2 Design Document Schema"
   ]
  },
  {
   "cell_type": "markdown",
   "id": "4a47a8c9",
   "metadata": {},
   "source": [
    "SAMPLE SCHEMA: users_schema"
   ]
  },
  {
   "cell_type": "code",
   "execution_count": 8,
   "id": "8b29199f",
   "metadata": {},
   "outputs": [],
   "source": [
    "#Preselected values\n",
    "roles = [\"student\", \"instructor\"]\n",
    "\n",
    "bio = [\n",
    "    \"Tech enthusiast with a strong passion for building real-world applications.\",\n",
    "    \"Aspiring developer eager to explore full-stack development and AI.\",\n",
    "    \"Loves teaching complex topics in simple and practical ways.\",\n",
    "    \"Data-driven thinker who enjoys uncovering insights and trends.\",\n",
    "    \"Focused on helping others launch successful tech careers.\",\n",
    "    \"Building the future with clean code and clear documentation.\",\n",
    "    \"Experienced instructor dedicated to mentoring the next generation of engineers.\"\n",
    "]\n",
    "\n",
    "\n",
    "avatar = [\n",
    "    \"https://api.dicebear.com/6.x/thumbs/svg?seed=Blaze\",\n",
    "    \"https://api.dicebear.com/6.x/thumbs/svg?seed=Circuit\",\n",
    "    \"https://api.dicebear.com/6.x/thumbs/svg?seed=Juno\",\n",
    "    \"https://api.dicebear.com/6.x/thumbs/svg?seed=Byte\",\n",
    "    \"https://api.dicebear.com/6.x/thumbs/svg?seed=Cloud\",\n",
    "    \"https://api.dicebear.com/6.x/thumbs/svg?seed=Neo\",\n",
    "    \"https://api.dicebear.com/6.x/thumbs/svg?seed=Dash\",\n",
    "    \"https://api.dicebear.com/6.x/thumbs/svg?seed=Lyra\",\n",
    "    \"https://api.dicebear.com/6.x/thumbs/svg?seed=EchoX\",\n",
    "    \"https://api.dicebear.com/6.x/thumbs/svg?seed=Ziggy\"\n",
    "]\n",
    "\n",
    "skills = [\n",
    "    \"Python\", \"SQL\", \"Data Engineering\", \"ETL\", \"JavaScript\",\n",
    "    \"APIs\", \"Kubernetes\", \"Machine Learning\", \"MongoDB\", \"Cloud Computing\"\n",
    "]\n",
    "\n",
    "# Create user_schema\n",
    "user_schema = []\n",
    "\n",
    "for i in range(1, 101):\n",
    "    r_user = {\n",
    "        \"_id\" : ObjectId(),\n",
    "        \"user_id\" : f\"U{str(i).zfill(3)}\",\n",
    "        \"email\" : fake.email(),\n",
    "        \"firstName\" : fake.first_name(),\n",
    "        \"lastName\" : fake.last_name(),\n",
    "        \"role\" : random.choice(roles),\n",
    "        \"dateJoined\" : fake.date_time_between(start_date=\"-1y\", end_date=\"now\"),\n",
    "        \"profile\" : {\n",
    "            \"bio\" : random.choice(bio),\n",
    "            \"avatar\" : random.choice(avatar),\n",
    "            \"skills\" : random.sample(skills, k=3)\n",
    "        },\n",
    "\n",
    "        \"is_active\" : random.choice([True, False])\n",
    "    }\n",
    "    user_schema.append(r_user)"
   ]
  },
  {
   "cell_type": "markdown",
   "id": "46af0ec3",
   "metadata": {},
   "source": [
    "SAMPLE SCHEMA: course_schema"
   ]
  },
  {
   "cell_type": "code",
   "execution_count": 10,
   "id": "6c3819e8",
   "metadata": {},
   "outputs": [],
   "source": [
    "# Preselected options\n",
    "categories = [\"Data Engineering\", \"Web Development\", \"Cloud Computing\", \"AI\", \"DevOps\"]\n",
    "\n",
    "levels = [\"beginner\", \"intermediate\", \"advanced\"]\n",
    "\n",
    "tags = [\n",
    "    \"practical-learning\", \"job-focused\", \"skills-oriented\", \"industry-relevant\", \"certificate-included\",\n",
    "    \"expert-guided\", \"engaging-format\", \"step-by-step-videos\", \"resource-pack\",\n",
    "    \"includes-quizzes\", \"task-based\", \"unlimited-access\", \"peer-network\",\n",
    "    \"career-coaching\", \"easy-to-start\"\n",
    "]\n",
    "\n",
    "descriptions = [\n",
    "    \"Build efficient and reliable data pipelines using industry-standard tools and workflows.\",\n",
    "    \"Dive into front-end development with practical lessons in HTML, CSS, and JavaScript.\",\n",
    "    \"Launch applications in the cloud with AWS, Docker containers, and Kubernetes orchestration.\",\n",
    "    \"Apply machine learning techniques through guided Python coding challenges and projects.\",\n",
    "    \"Learn how to query, organize, and manage data using SQL and relational databases.\",\n",
    "    \"Gain hands-on experience solving data pipeline problems in real-world business contexts.\",\n",
    "    \"Automate deployments and monitor systems with DevOps principles and modern tooling.\",\n",
    "    \"Design and implement scalable APIs and microservices using Flask and Django frameworks.\",\n",
    "    \"Work with massive datasets using big data platforms like Apache Spark and Hadoop.\",\n",
    "    \"Jumpstart your journey into AI by building deep learning models with neural networks.\"\n",
    "]\n",
    "\n",
    "\n",
    "titles = [\n",
    "    \"Clean Code and Refactoring\",\n",
    "    \"Big Data Processing with Spark\",\n",
    "    \"MongoDB for Developers\",\n",
    "    \"Deploying Applications with Docker\",\n",
    "    \"Git & GitHub for Collaboration\",\n",
    "    \"Python for Beginners\",\n",
    "    \"Kubernetes for Developers\",\n",
    "    \"Unit Testing in Python\",\n",
    "    \"Building REST APIs with FastAPI\",\n",
    "    \"Data Visualization with Seaborn\",\n",
    "    \"Machine Learning with scikit-learn\",\n",
    "    \"AWS Cloud Fundamentals\",\n",
    "    \"Computer Vision with OpenCV\",\n",
    "    \"Deep Learning with TensorFlow\",\n",
    "    \"Data Engineering with Python\"\n",
    "]\n",
    "\n",
    "\n",
    "# Placeholder instructor user_ids (to be updated with actual IDs later)\n",
    "instructor_ids = [f\"U{str(i).zfill(3)}\" for i in range(1, 41)]\n",
    "\n",
    "# Generate courses\n",
    "course_schema = []\n",
    "\n",
    "for i in range(1, 101):\n",
    "    course = {\n",
    "        \"_id\": ObjectId(),\n",
    "        \"course_id\": f\"C{str(i).zfill(3)}\",\n",
    "        \"title\": random.choice(titles),\n",
    "        \"description\": random.choice(descriptions),\n",
    "        \"instructor_id\": random.choice(instructor_ids),\n",
    "        \"category\": random.choice(categories),\n",
    "        \"level\": random.choice(levels),\n",
    "        \"duration\": random.randint(5, 60),  # hours\n",
    "        \"price\": random.choice([0, 50, 100, 150, 200, 250, 300]), \n",
    "        \"tags\": random.sample(tags, k=3),\n",
    "        \"created_at\": fake.date_time_between(start_date=\"-6M\", end_date=\"now\"),\n",
    "        \"updated_at\": datetime.now(),\n",
    "        \"is_published\": random.choice([True, False])\n",
    "    }\n",
    "\n",
    "    course_schema.append(course)"
   ]
  },
  {
   "cell_type": "markdown",
   "id": "463ed899",
   "metadata": {},
   "source": [
    "## PART 2: DATA POPULATION"
   ]
  },
  {
   "cell_type": "markdown",
   "id": "3010e6cf",
   "metadata": {},
   "source": [
    "TASK 2.1: Insert Sample Data\n",
    "\n",
    "USER - COLLECTION"
   ]
  },
  {
   "cell_type": "code",
   "execution_count": 19,
   "id": "c6e9826b",
   "metadata": {},
   "outputs": [
    {
     "name": "stdout",
     "output_type": "stream",
     "text": [
      " Inserted 20 users successfully.\n"
     ]
    }
   ],
   "source": [
    "# INSERT 20 USERS USING RANDOM DATA (mix of students and instructors)\n",
    "\n",
    "users_schema = []\n",
    "for i in range(1, 21):\n",
    "    user = {\n",
    "        \"_id\": ObjectId(),\n",
    "        \"user_id\": f\"U{str(i).zfill(3)}\",\n",
    "        \"email\": fake.email(),\n",
    "        \"first_name\": fake.first_name(),\n",
    "        \"last_name\": fake.last_name(),\n",
    "        \"date_joined\": fake.date_time_between(start_date=\"-1y\", end_date=\"now\"),\n",
    "        \"role\": random.choice(roles),\n",
    "        \"profile\": {\n",
    "            \"bio\": random.choice(bio),\n",
    "            \"avatar\": random.choice(avatar),\n",
    "            \"skills\": random.sample(skills, k=3)\n",
    "        },\n",
    "        \"is_active\": random.choice([True, False])\n",
    "    }\n",
    "    users_schema.append(user)\n",
    "\n",
    "\n",
    "users_col.insert_many(users_schema)\n",
    "\n",
    "print(\" Inserted 20 users successfully.\")\n"
   ]
  },
  {
   "cell_type": "markdown",
   "id": "74ffd931",
   "metadata": {},
   "source": [
    "The above code inserts 20 users  using  random data which is a mixture of students and instructors.\n",
    " This loop runs 20 times (from 1 to 20), once for each user and each user gets a unique MongoDB ObjectId which acts as a primary key. Each user is  then assigned a custom user ID and also numbers are padded to 3 digits. Using Faker library, a fake but realistic email and  name for each user is generated. Random join date is within the past year.The role is then picked randomly from the list and a nested profile object is created. \n",
    "\n",
    "Randomly sets whether the user is active or not, simulating real scenarios where some users may be inactive.\n",
    "After creating the user dictionary, it is then added to the users_schema list.\n",
    "All the 20 users are inserted at once into the users_col instead of one by one whch is more efficient.\n",
    "\n",
    "\n"
   ]
  },
  {
   "cell_type": "markdown",
   "id": "49850503",
   "metadata": {},
   "source": [
    "COURSES COLLECTION"
   ]
  },
  {
   "cell_type": "code",
   "execution_count": 20,
   "id": "9488c9f5",
   "metadata": {},
   "outputs": [
    {
     "name": "stdout",
     "output_type": "stream",
     "text": [
      " Inserted 8 courses successfully.\n"
     ]
    }
   ],
   "source": [
    "#INSERT 8 COURSES ACROSS DIFFERENT CATEGORIES\n",
    "\n",
    "course_schema = []\n",
    "\n",
    "for i in range(1, 9):\n",
    "    course = {\n",
    "        \"_id\": ObjectId(),\n",
    "        \"course_id\": f\"C{str(i).zfill(3)}\",\n",
    "        \"title\": random.choice(titles),\n",
    "        \"description\": random.choice(descriptions),\n",
    "        \"instructor_id\": random.choice([user[\"user_id\"] for user in users_schema if user[\"role\"] == \"instructor\"]),\n",
    "        \"category\": random.choice(categories),\n",
    "        \"level\": random.choice(levels),\n",
    "        \"duration\": random.randint(5, 60),\n",
    "        \"price\": random.choice([0, 50, 100, 150, 200, 250, 300]),\n",
    "        \"tags\": random.sample(tags, k=3),\n",
    "        \"created_at\": fake.date_time_between(start_date=\"-6M\", end_date=\"now\"),\n",
    "        \"updated_at\": datetime.now(),\n",
    "        \"is_published\": random.choice([True, False])\n",
    "    }\n",
    "    course_schema.append(course)\n",
    "\n",
    "# Clear and insert\n",
    "courses_col.delete_many({})\n",
    "courses_col.insert_many(course_schema)\n",
    "\n",
    "print(\" Inserted 8 courses successfully.\")\n"
   ]
  },
  {
   "cell_type": "markdown",
   "id": "d6a92fcb",
   "metadata": {},
   "source": [
    "ENROLLMENTS - COLLECTION"
   ]
  },
  {
   "cell_type": "code",
   "execution_count": 21,
   "id": "a0239447",
   "metadata": {},
   "outputs": [
    {
     "name": "stdout",
     "output_type": "stream",
     "text": [
      "Inserted 15 enrollments successfully.\n"
     ]
    }
   ],
   "source": [
    "#INSERT 15 ENROLLMENTS\n",
    "\n",
    "enrollment_schema = []\n",
    "\n",
    "for i in range(1, 16):\n",
    "    student = random.choice([user for user in users_schema if user[\"role\"] == \"student\"])\n",
    "    course = random.choice(course_schema)\n",
    "\n",
    "    enrollment = {\n",
    "        \"_id\": ObjectId(),\n",
    "        \"enrollment_id\": f\"E{str(i).zfill(3)}\",\n",
    "        \"user_id\": student[\"user_id\"],\n",
    "        \"course_id\": course[\"course_id\"],\n",
    "        \"enrolled_on\": fake.date_time_between(start_date=course[\"created_at\"], end_date=\"now\"),\n",
    "        \"progress\": random.randint(0, 100),\n",
    "        \"completed\": random.choice([True, False])\n",
    "    }\n",
    "\n",
    "    enrollment_schema.append(enrollment)\n",
    "\n",
    "# Clear and insert\n",
    "enrollments_col.delete_many({})\n",
    "enrollments_col.insert_many(enrollment_schema)\n",
    "\n",
    "print(\"Inserted 15 enrollments successfully.\")"
   ]
  },
  {
   "cell_type": "markdown",
   "id": "05d516c4",
   "metadata": {},
   "source": [
    "LESSONS - COLLECTION"
   ]
  },
  {
   "cell_type": "code",
   "execution_count": 22,
   "id": "16f454ba",
   "metadata": {},
   "outputs": [
    {
     "name": "stdout",
     "output_type": "stream",
     "text": [
      " Inserted 25 lessons successfully.\n"
     ]
    }
   ],
   "source": [
    "#INSERT 25 LESSONS\n",
    "\n",
    "lesson_schema = []\n",
    "\n",
    "for i in range(1, 26):\n",
    "    course = random.choice(course_schema)\n",
    "\n",
    "    lesson = {\n",
    "        \"_id\": ObjectId(),\n",
    "        \"lesson_id\": f\"L{str(i).zfill(3)}\",\n",
    "        \"course_id\": course[\"course_id\"],\n",
    "        \"title\": f\"Lesson {i}: {random.choice(titles)}\",\n",
    "        \"content\": fake.paragraph(nb_sentences=5),\n",
    "        \"video_url\": f\"https://example.com/video/{i}\",\n",
    "        \"resources\": [f\"https://resource.com/{fake.word()}\" for _ in range(2)],\n",
    "        \"order\": i,\n",
    "        \"created_at\": datetime.now()\n",
    "    }\n",
    "\n",
    "    lesson_schema.append(lesson)\n",
    "\n",
    "# Clear and insert\n",
    "lessons_col.delete_many({})\n",
    "lessons_col.insert_many(lesson_schema)\n",
    "\n",
    "print(\" Inserted 25 lessons successfully.\")\n",
    " "
   ]
  },
  {
   "cell_type": "markdown",
   "id": "d5243759",
   "metadata": {},
   "source": [
    "ASSIGNMENTS - COLLECTION"
   ]
  },
  {
   "cell_type": "code",
   "execution_count": 23,
   "id": "66be73db",
   "metadata": {},
   "outputs": [
    {
     "name": "stdout",
     "output_type": "stream",
     "text": [
      " Inserted 10 assignment successfully.\n"
     ]
    }
   ],
   "source": [
    "#INSERT 10 ASSIGNMENTS\n",
    " \n",
    "assignment_schema = []\n",
    "\n",
    "for i in range(1, 11):\n",
    "    lesson = random.choice(lesson_schema)\n",
    "    \n",
    "    assignment = {\n",
    "        \"_id\": ObjectId(),\n",
    "        \"assignment_id\": f\"A{str(i).zfill(3)}\",\n",
    "        \"course_id\": lesson[\"course_id\"],\n",
    "        \"lesson_id\": lesson[\"lesson_id\"],\n",
    "        \"title\": f\"Assignment {i}: {random.choice(titles)}\",\n",
    "        \"description\": fake.paragraph(nb_sentences=3),\n",
    "        \"due_date\": datetime.now() + timedelta(days=random.randint(3, 14)),\n",
    "        \"max_score\": 100,\n",
    "        \"created_at\": datetime.now()\n",
    "    }\n",
    "\n",
    "    assignment_schema.append(assignment)\n",
    "\n",
    "# Clear and insert\n",
    "assignments_col.delete_many({})\n",
    "assignments_col.insert_many(assignment_schema)\n",
    "\n",
    "print(\" Inserted 10 assignment successfully.\")\n"
   ]
  },
  {
   "cell_type": "markdown",
   "id": "bcd9e966",
   "metadata": {},
   "source": [
    "SUBMISSION - COLLECTION"
   ]
  },
  {
   "cell_type": "code",
   "execution_count": 24,
   "id": "db343262",
   "metadata": {},
   "outputs": [
    {
     "name": "stdout",
     "output_type": "stream",
     "text": [
      " Inserted 12 submissions successfully.\n"
     ]
    }
   ],
   "source": [
    "#Insert 12 submissions\n",
    "\n",
    "submission_schema = []\n",
    "\n",
    "for i in range(1, 13):\n",
    "    assignment = random.choice(assignment_schema)\n",
    "    student = random.choice([user for user in users_schema if user[\"role\"] == \"student\"])\n",
    "\n",
    "    submission = {\n",
    "        \"_id\": ObjectId(),\n",
    "        \"submission_id\": f\"S{str(i).zfill(3)}\",\n",
    "        \"assignment_id\": assignment[\"assignment_id\"],\n",
    "        \"user_id\": student[\"user_id\"],\n",
    "        \"submitted_on\": datetime.now() - timedelta(days=random.randint(0, 5)),\n",
    "        \"content\": fake.paragraph(nb_sentences=4),\n",
    "        \"score\": random.randint(50, 100),\n",
    "        \"graded\": random.choice([True, False])\n",
    "    }\n",
    "\n",
    "    submission_schema.append(submission)\n",
    "\n",
    "# Clear and insert\n",
    "submissions_col.delete_many({})\n",
    "submissions_col.insert_many(submission_schema)\n",
    "\n",
    "print(\" Inserted 12 submissions successfully.\")\n"
   ]
  },
  {
   "cell_type": "markdown",
   "id": "c622484f",
   "metadata": {},
   "source": [
    "TASK 2.2 DATA RELATIONSHIPS"
   ]
  },
  {
   "cell_type": "markdown",
   "id": "29552ef3",
   "metadata": {},
   "source": [
    "Proper referential relationships between collections were established using appropriate field reference as expalined below;\n",
    "\n",
    "Users Collection: user_id was referenced in courses, submissions, and enrollments and role determines whether the user is a student or instructor.\n",
    "\n",
    "\n",
    "Courses Collection: instructor_id references user_id from the users collection (only instructors) and course_id referenced in lessons, assignments, and enrollments.\n",
    "\n",
    "\n",
    "Lessons Collection: course_id referencs the courses collection and lesson_id referenced in assignments.\n",
    "\n",
    "\n",
    "Assignments Collection: course_id references the courses collection, lesson_id references the lessons collection and assignment_id referenced in submissions.\n",
    "\n",
    "\n",
    "\n",
    "Submissions Collection: assignment_id references the assignments collection and user_id and references a student from the users collection.\n",
    "\n",
    "\n",
    "Enrollments Collection: user_id references a student from the users collection and course_id references the courses collection.\n",
    "\n",
    "\n",
    "\n",
    "\n",
    "\n",
    "\n",
    "\n",
    "\n"
   ]
  },
  {
   "cell_type": "markdown",
   "id": "0fa19f5e",
   "metadata": {},
   "source": [
    "# PART 3: BASIC CRUD OPERATIONS\n",
    "\n",
    "TASK 3.1 : Create Operations using pymongo and write python code to perform the following operations\n",
    "\n"
   ]
  },
  {
   "cell_type": "markdown",
   "id": "1d261ef2",
   "metadata": {},
   "source": [
    "####  1 : Add a new student user"
   ]
  },
  {
   "cell_type": "code",
   "execution_count": 25,
   "id": "a6758732",
   "metadata": {},
   "outputs": [
    {
     "name": "stdout",
     "output_type": "stream",
     "text": [
      " New user added successfully.\n"
     ]
    }
   ],
   "source": [
    "#add new student user\n",
    "\n",
    "\n",
    "new_user = {\n",
    "    \"_id\": ObjectId(),\n",
    "    \"user_id\": \"U600\",\n",
    "    \"email\": \"siddiqalawan@gmail.com\",\n",
    "    \"first_name\": \"Siddiqa\",\n",
    "    \"last_name\": \"Lawan\",\n",
    "    \"date_joined\": datetime.now(),\n",
    "    \"role\": \"student\",\n",
    "    \"profile\": {\n",
    "        \"bio\": \"Excited to explore the world of data.\",\n",
    "        \"avatar\": \"https://api.dicebear.com/6.x/thumbs/svg?seed=zimb\",\n",
    "        \"skills\": [\"Python\", \"MongoDB\", \"SQL\"]\n",
    "    },\n",
    "    \"is_active\": True\n",
    "}\n",
    "\n",
    "# Insert user\n",
    "users_col.insert_one(new_user)\n",
    "\n",
    "print(\" New user added successfully.\")"
   ]
  },
  {
   "cell_type": "code",
   "execution_count": 26,
   "id": "57d38cc6",
   "metadata": {},
   "outputs": [
    {
     "name": "stdout",
     "output_type": "stream",
     "text": [
      "User found:\n",
      "{'_id': ObjectId('684ad8209d7952d67655645d'),\n",
      " 'date_joined': datetime.datetime(2025, 6, 12, 14, 37, 36, 817000),\n",
      " 'email': 'siddiqalawan@gmail.com',\n",
      " 'first_name': 'Siddiqa',\n",
      " 'is_active': True,\n",
      " 'last_name': 'Lawan',\n",
      " 'profile': {'avatar': 'https://api.dicebear.com/6.x/thumbs/svg?seed=zimb',\n",
      "             'bio': 'Excited to explore the world of data.',\n",
      "             'skills': ['Python', 'MongoDB', 'SQL']},\n",
      " 'role': 'student',\n",
      " 'user_id': 'U600'}\n"
     ]
    }
   ],
   "source": [
    "# confirm the user\n",
    "\n",
    "user = users_col.find_one({\"user_id\": \"U600\"})\n",
    "\n",
    "if user:\n",
    "    print(\"User found:\")\n",
    "    pp.pprint(user)\n",
    "else:\n",
    "    print(\" User not found.\")"
   ]
  },
  {
   "cell_type": "markdown",
   "id": "bf3f8c1b",
   "metadata": {},
   "source": [
    "#### 2: Create a new course"
   ]
  },
  {
   "cell_type": "code",
   "execution_count": null,
   "id": "df7306bb",
   "metadata": {},
   "outputs": [
    {
     "name": "stdout",
     "output_type": "stream",
     "text": [
      "New course added successfully.\n"
     ]
    }
   ],
   "source": [
    "# new course(instructor must be an existing one)\n",
    "\n",
    "\n",
    "new_course = {\n",
    "    \"_id\": ObjectId(),\n",
    "    \"course_id\": \"C701\",\n",
    "    \"title\": \"Machine Learning Foundation\",\n",
    "    \"description\": \"Master the foundation of Ml, Model development and deployment.\",\n",
    "    \"instructor_id\": \"U007\",  \n",
    "    \"category\": \"Machine Learning\",\n",
    "    \"level\": \"beginner\",\n",
    "    \"duration\": 40,\n",
    "    \"price\": 150,\n",
    "    \"tags\": [\"project-based\", \"career-ready\", \"interactive\"],\n",
    "    \"created_at\": datetime.now(),\n",
    "    \"updated_at\": datetime.now(),\n",
    "    \"is_published\": True\n",
    "}\n",
    "\n",
    "# Insert course\n",
    "courses_col.insert_one(new_course)\n",
    "\n",
    "print(\"New course added successfully.\")"
   ]
  },
  {
   "cell_type": "code",
   "execution_count": 28,
   "id": "b62e833d",
   "metadata": {},
   "outputs": [
    {
     "name": "stdout",
     "output_type": "stream",
     "text": [
      "Course found:\n",
      "{'_id': ObjectId('684adb049d7952d67655645e'),\n",
      " 'category': 'Machine Learning',\n",
      " 'course_id': 'C701',\n",
      " 'created_at': datetime.datetime(2025, 6, 12, 14, 49, 56, 312000),\n",
      " 'description': 'Master the foundation of Ml, Model development and '\n",
      "                'deployment.',\n",
      " 'duration': 40,\n",
      " 'instructor_id': 'U007',\n",
      " 'is_published': True,\n",
      " 'level': 'beginner',\n",
      " 'price': 150,\n",
      " 'tags': ['project-based', 'career-ready', 'interactive'],\n",
      " 'title': 'Machine Learning Foundation',\n",
      " 'updated_at': datetime.datetime(2025, 6, 12, 14, 49, 56, 312000)}\n"
     ]
    }
   ],
   "source": [
    "#confirmation\n",
    "course = courses_col.find_one({\"course_id\": \"C701\"})\n",
    "\n",
    "if course:\n",
    "    print(\"Course found:\")\n",
    "    pp.pprint(course)\n",
    "else:\n",
    "    print(\"Course not found.\")"
   ]
  },
  {
   "cell_type": "markdown",
   "id": "071fd3ed",
   "metadata": {},
   "source": [
    "#### 3: Enroll a student in a course"
   ]
  },
  {
   "cell_type": "code",
   "execution_count": 32,
   "id": "0b1247b4",
   "metadata": {},
   "outputs": [
    {
     "name": "stdout",
     "output_type": "stream",
     "text": [
      " Student enrolled successfully.\n"
     ]
    }
   ],
   "source": [
    "#Enroll a student(must be an existing student)\n",
    "\n",
    "\n",
    "# Example: Enroll user U999 into course C999\n",
    "new_enrollment = {\n",
    "    \"_id\": ObjectId(),\n",
    "    \"enrollment_id\": \"E701\",\n",
    "    \"user_id\": \"U600\",          \n",
    "    \"course_id\": \"C701\",\n",
    "    \"enrolled_on\": datetime.now(),\n",
    "    \"progress\": 0,\n",
    "    \"is_active\": True\n",
    "}\n",
    "\n",
    "# Insert enrollment\n",
    "enrollments_col.insert_one(new_enrollment)\n",
    "\n",
    "print(\" Student enrolled successfully.\")"
   ]
  },
  {
   "cell_type": "code",
   "execution_count": null,
   "id": "8ef0f56b",
   "metadata": {},
   "outputs": [
    {
     "name": "stdout",
     "output_type": "stream",
     "text": [
      " Enrollment found:\n",
      "{'_id': ObjectId('684add0d9d7952d676556461'),\n",
      " 'course_id': 'C701',\n",
      " 'enrolled_on': datetime.datetime(2025, 6, 12, 14, 58, 37, 739000),\n",
      " 'enrollment_id': 'E701',\n",
      " 'is_active': True,\n",
      " 'progress': 0,\n",
      " 'user_id': 'U600'}\n"
     ]
    }
   ],
   "source": [
    "#confirm\n",
    "\n",
    "enrollment = enrollments_col.find_one({\"enrollment_id\": \"E701\"})\n",
    "\n",
    "if enrollment:\n",
    "    print(\" Enrollment found:\")\n",
    "    pp.pprint(enrollment)\n",
    "else:\n",
    "    print(\" Enrollment not found.\")"
   ]
  },
  {
   "cell_type": "markdown",
   "id": "b2fc13a5",
   "metadata": {},
   "source": [
    "#### 4: Add a new lesson to an existing course"
   ]
  },
  {
   "cell_type": "code",
   "execution_count": 34,
   "id": "b8d7e77b",
   "metadata": {},
   "outputs": [
    {
     "name": "stdout",
     "output_type": "stream",
     "text": [
      " Lesson added successfully.\n"
     ]
    }
   ],
   "source": [
    "#Add a new lesson (courseid must be existing already)\n",
    "\n",
    "\n",
    "new_lesson = {\n",
    "    \"_id\": ObjectId(),\n",
    "    \"lesson_id\": \"L001\",\n",
    "    \"course_id\": \"C001\",  \n",
    "    \"title\": random.choice(titles),  \n",
    "    \"content\": \"This lesson introduces the fundamentals of data engineering.\",\n",
    "    \"duration\": random.randint(10, 30),  \n",
    "    \"resources\": [\n",
    "        \"https://example.com/resource1\",\n",
    "        \"https://example.com/resource2\"\n",
    "    ],\n",
    "    \"created_at\": datetime.now()\n",
    "}\n",
    "\n",
    "# Insert lesson\n",
    "lessons_col.insert_one(new_lesson)\n",
    "\n",
    "print(\" Lesson added successfully.\")"
   ]
  },
  {
   "cell_type": "code",
   "execution_count": null,
   "id": "43f41bd7",
   "metadata": {},
   "outputs": [
    {
     "name": "stdout",
     "output_type": "stream",
     "text": [
      " Lesson found:\n",
      "{'_id': ObjectId('684ad5a09d7952d67655642e'),\n",
      " 'content': 'Article may TV worry. Direction put indicate fire this president. '\n",
      "            'Strategy street Democrat purpose agree decide sing. Receive under '\n",
      "            'room space thing. Born send talk keep right federal consider. '\n",
      "            'Available instead like require team understand.',\n",
      " 'course_id': 'C007',\n",
      " 'created_at': datetime.datetime(2025, 6, 12, 14, 26, 56, 101000),\n",
      " 'lesson_id': 'L001',\n",
      " 'order': 1,\n",
      " 'resources': ['https://resource.com/piece', 'https://resource.com/major'],\n",
      " 'title': 'Lesson 1: Machine Learning with scikit-learn',\n",
      " 'video_url': 'https://example.com/video/1'}\n"
     ]
    }
   ],
   "source": [
    "#Confirm\n",
    "\n",
    "\n",
    "lesson = lessons_col.find_one({\"lesson_id\": \"L001\"})\n",
    "\n",
    "if lesson:\n",
    "    print(\" Lesson found:\")\n",
    "    pp.pprint(lesson)\n",
    "else:\n",
    "    print(\" Lesson not found.\")"
   ]
  },
  {
   "cell_type": "markdown",
   "id": "8778f8fe",
   "metadata": {},
   "source": [
    "TASK 3.2 : READ OPERATIONS\n",
    "\n",
    "WRITE PYTHON QUERIES TO PERFORM THE FOLOWING OPERATIONS"
   ]
  },
  {
   "cell_type": "markdown",
   "id": "f09a45a0",
   "metadata": {},
   "source": [
    "#### 1: Find all active students"
   ]
  },
  {
   "cell_type": "code",
   "execution_count": 36,
   "id": "70b94f93",
   "metadata": {},
   "outputs": [
    {
     "name": "stdout",
     "output_type": "stream",
     "text": [
      "Active Students:\n",
      "U004 - Luis Maxwell\n",
      "U011 - Michelle Jones\n",
      "U018 - Thomas Sanchez\n",
      "U013 - Hailey Sanchez\n",
      "U600 - Siddiqa Lawan\n"
     ]
    }
   ],
   "source": [
    "#Find all active students \n",
    "\n",
    "active_students = users_col.find({\n",
    "    \"role\": \"student\",\n",
    "    \"is_active\": True\n",
    "})\n",
    "\n",
    "print(\"Active Students:\")\n",
    "for student in active_students:\n",
    "    print(f\"{student['user_id']} - {student['first_name']} {student['last_name']}\")"
   ]
  },
  {
   "cell_type": "markdown",
   "id": "20644158",
   "metadata": {},
   "source": [
    "#### 2: Retrieve course details with instructor information\n",
    "\n"
   ]
  },
  {
   "cell_type": "code",
   "execution_count": 38,
   "id": "67e34928",
   "metadata": {},
   "outputs": [
    {
     "name": "stdout",
     "output_type": "stream",
     "text": [
      " Course with Instructor Info:\n",
      "{'category': 'AI',\n",
      " 'course_id': 'C004',\n",
      " 'instructor': {'email': 'carterbrooke@example.net',\n",
      "                'full_name': 'Sharon Kent',\n",
      "                'skills': ['MongoDB', 'JavaScript', 'ETL']},\n",
      " 'level': 'beginner',\n",
      " 'price': 300,\n",
      " 'title': 'Kubernetes for Developers'}\n"
     ]
    }
   ],
   "source": [
    "#Retrieve course details with instructors information \n",
    "\n",
    "pipeline = [\n",
    "    {\n",
    "        \"$match\": {\"course_id\": \"C004\"}\n",
    "    },\n",
    "    {\n",
    "        \"$lookup\": {\n",
    "            \"from\": \"users\",\n",
    "            \"localField\": \"instructor_id\",\n",
    "            \"foreignField\": \"user_id\",\n",
    "            \"as\": \"instructor_info\"\n",
    "        }\n",
    "    },\n",
    "    {\n",
    "        \"$unwind\": \"$instructor_info\"\n",
    "    },\n",
    "    {\n",
    "        \"$project\": {\n",
    "            \"_id\": 0,\n",
    "            \"course_id\": 1,\n",
    "            \"title\": 1,\n",
    "            \"category\": 1,\n",
    "            \"level\": 1,\n",
    "            \"price\": 1,\n",
    "            \"instructor\": {\n",
    "                \"full_name\": {\n",
    "                    \"$concat\": [\n",
    "                        \"$instructor_info.first_name\",\n",
    "                        \" \",\n",
    "                        \"$instructor_info.last_name\"\n",
    "                    ]\n",
    "                },\n",
    "                \"email\": \"$instructor_info.email\",\n",
    "                \"skills\": \"$instructor_info.profile.skills\"\n",
    "            }\n",
    "        }\n",
    "    }\n",
    "]\n",
    "\n",
    "result = list(courses_col.aggregate(pipeline))\n",
    "\n",
    "if result:\n",
    "    print(\" Course with Instructor Info:\")\n",
    "    pp.pprint(result[0])\n",
    "else:\n",
    "    print(\"No course found.\")"
   ]
  },
  {
   "cell_type": "markdown",
   "id": "90c99361",
   "metadata": {},
   "source": [
    "#### 3: Get all courses in a specific category"
   ]
  },
  {
   "cell_type": "code",
   "execution_count": 41,
   "id": "7bff011b",
   "metadata": {},
   "outputs": [
    {
     "name": "stdout",
     "output_type": "stream",
     "text": [
      " Courses in category: Machine Learning\n",
      "C701 - Machine Learning Foundation\n"
     ]
    }
   ],
   "source": [
    "#Get all courses in a specific category \n",
    "\n",
    "\n",
    "category_name = \"Machine Learning\"\n",
    "\n",
    "courses = courses_col.find({\"category\": category_name})\n",
    "\n",
    "print(f\" Courses in category: {category_name}\")\n",
    "for course in courses:\n",
    "    print(f\"{course['course_id']} - {course['title']}\")"
   ]
  },
  {
   "cell_type": "markdown",
   "id": "c4daea50",
   "metadata": {},
   "source": [
    "#### 4: Find students enrolled in a specific course"
   ]
  },
  {
   "cell_type": "code",
   "execution_count": 42,
   "id": "b4888bbb",
   "metadata": {},
   "outputs": [
    {
     "name": "stdout",
     "output_type": "stream",
     "text": [
      " Enrolled Students in Course C004:\n",
      "{'course_id': 'C001',\n",
      " 'email': 'brittany18@example.net',\n",
      " 'enrolled_on': datetime.datetime(2025, 6, 1, 9, 17, 6),\n",
      " 'enrollment_id': 'E001',\n",
      " 'student_name': 'Heather Herrera',\n",
      " 'user_id': 'U013'}\n",
      "{'course_id': 'C001',\n",
      " 'email': 'haley50@example.net',\n",
      " 'enrolled_on': datetime.datetime(2025, 6, 1, 9, 17, 6),\n",
      " 'enrollment_id': 'E001',\n",
      " 'student_name': 'Hailey Sanchez',\n",
      " 'user_id': 'U013'}\n",
      "{'course_id': 'C001',\n",
      " 'email': 'brittany18@example.net',\n",
      " 'enrolled_on': datetime.datetime(2025, 5, 29, 6, 43, 39),\n",
      " 'enrollment_id': 'E006',\n",
      " 'student_name': 'Heather Herrera',\n",
      " 'user_id': 'U013'}\n",
      "{'course_id': 'C001',\n",
      " 'email': 'haley50@example.net',\n",
      " 'enrolled_on': datetime.datetime(2025, 5, 29, 6, 43, 39),\n",
      " 'enrollment_id': 'E006',\n",
      " 'student_name': 'Hailey Sanchez',\n",
      " 'user_id': 'U013'}\n",
      "{'course_id': 'C001',\n",
      " 'email': 'brittany18@example.net',\n",
      " 'enrolled_on': datetime.datetime(2025, 5, 26, 9, 35, 5),\n",
      " 'enrollment_id': 'E015',\n",
      " 'student_name': 'Heather Herrera',\n",
      " 'user_id': 'U013'}\n",
      "{'course_id': 'C001',\n",
      " 'email': 'haley50@example.net',\n",
      " 'enrolled_on': datetime.datetime(2025, 5, 26, 9, 35, 5),\n",
      " 'enrollment_id': 'E015',\n",
      " 'student_name': 'Hailey Sanchez',\n",
      " 'user_id': 'U013'}\n"
     ]
    }
   ],
   "source": [
    "#Find students enrolled in a specific course \n",
    "\n",
    "\n",
    "pipeline = [\n",
    "    {\n",
    "        \"$match\": {\"course_id\": \"C001\"}\n",
    "    },\n",
    "    {\n",
    "        \"$lookup\": {\n",
    "            \"from\": \"users\",\n",
    "            \"localField\": \"user_id\",\n",
    "            \"foreignField\": \"user_id\",\n",
    "            \"as\": \"student_info\"\n",
    "        }\n",
    "    },\n",
    "    {\n",
    "        \"$unwind\": \"$student_info\"\n",
    "    },\n",
    "    {\n",
    "        \"$match\": {\"student_info.role\": \"student\"}\n",
    "    },\n",
    "    {\n",
    "        \"$project\": {\n",
    "            \"_id\": 0,\n",
    "            \"enrollment_id\": 1,\n",
    "            \"user_id\": 1,\n",
    "            \"course_id\": 1,\n",
    "            \"student_name\": {\n",
    "                \"$concat\": [\n",
    "                    \"$student_info.first_name\", \" \", \"$student_info.last_name\"\n",
    "                ]\n",
    "            },\n",
    "            \"email\": \"$student_info.email\",\n",
    "            \"enrolled_on\": 1\n",
    "        }\n",
    "    }\n",
    "]\n",
    "\n",
    "students = list(enrollments_col.aggregate(pipeline))\n",
    "\n",
    "if students:\n",
    "    print(\" Enrolled Students in Course C004:\")\n",
    "    for s in students:\n",
    "        pp.pprint(s)\n",
    "else:\n",
    "    print(\" No students enrolled in this course.\")"
   ]
  },
  {
   "cell_type": "markdown",
   "id": "475733c0",
   "metadata": {},
   "source": [
    "#### 5: Search courses by title (case_insensitive, partial match)"
   ]
  },
  {
   "cell_type": "code",
   "execution_count": 43,
   "id": "054c14ec",
   "metadata": {},
   "outputs": [
    {
     "name": "stdout",
     "output_type": "stream",
     "text": [
      " Courses matching 'AWS Cloud Fundamentals'\n"
     ]
    }
   ],
   "source": [
    "#match course by title \n",
    "\n",
    "\n",
    "search_term = \"AWS Cloud Fundamentals\" \n",
    "\n",
    "courses = courses_col.find({\n",
    "    \"title\": {\"$regex\": search_term, \"$options\": \"i\"}\n",
    "})\n",
    "\n",
    "print(f\" Courses matching '{search_term}'\")\n",
    "for course in courses:\n",
    "    print(f\"{course['course_id']} - {course['title']}\")"
   ]
  },
  {
   "cell_type": "markdown",
   "id": "1bbe46fc",
   "metadata": {},
   "source": [
    "#### TASK 3.3 : UPDATE OPERATIONS"
   ]
  },
  {
   "cell_type": "markdown",
   "id": "d45a0e08",
   "metadata": {},
   "source": [
    "#### 1: Update a user's profile information"
   ]
  },
  {
   "cell_type": "code",
   "execution_count": null,
   "id": "0757c005",
   "metadata": {},
   "outputs": [
    {
     "name": "stdout",
     "output_type": "stream",
     "text": [
      " Updated Profile:\n",
      "{'avatar': 'https://api.dicebear.com/6.x/thumbs/svg?seed=Nova',\n",
      " 'bio': 'Always learning. Always building.',\n",
      " 'skills': ['Python', 'MongoDB', 'APIs']}\n"
     ]
    }
   ],
   "source": [
    "#Update a user's profile information \n",
    "\n",
    "\n",
    "users_col.update_one(\n",
    "    {\"user_id\": \"U003\"},\n",
    "    {\n",
    "        \"$set\": {\n",
    "            \"profile.bio\": \"Always learning. Always building.\",\n",
    "            \"profile.avatar\": \"https://api.dicebear.com/6.x/thumbs/svg?seed=Nova\",\n",
    "            \"profile.skills\": [\"Python\", \"MongoDB\", \"APIs\"]\n",
    "        }\n",
    "    }\n",
    ")\n",
    "\n",
    "# Confirmation\n",
    "user = users_col.find_one({\"user_id\": \"U003\"})\n",
    "if user:\n",
    "    print(\" Updated Profile:\")\n",
    "    pp.pprint(user[\"profile\"])\n",
    "else:\n",
    "    print(\" User not found.\")\n",
    " "
   ]
  },
  {
   "cell_type": "markdown",
   "id": "3f7ce736",
   "metadata": {},
   "source": [
    "#### 2: Mark a course as published"
   ]
  },
  {
   "cell_type": "code",
   "execution_count": null,
   "id": "a9f89386",
   "metadata": {},
   "outputs": [
    {
     "name": "stdout",
     "output_type": "stream",
     "text": [
      " Course 'Machine Learning Foundation' is now published.\n"
     ]
    }
   ],
   "source": [
    "#Mark a course as published \n",
    "\n",
    "courses_col.update_one(\n",
    "    {\"course_id\": \"C003\"},\n",
    "    {\"$set\": {\"is_published\": True}}\n",
    ")\n",
    "\n",
    "# Confirmation\n",
    "course = courses_col.find_one({\"course_id\": \"C701\"})\n",
    "if course:\n",
    "    print(f\" Course '{course['title']}' is now published.\")\n",
    "else:\n",
    "    print(\" Course not found.\")"
   ]
  },
  {
   "cell_type": "markdown",
   "id": "125fb2ba",
   "metadata": {},
   "source": [
    "#### 3: Update assignment grades"
   ]
  },
  {
   "cell_type": "code",
   "execution_count": 47,
   "id": "055a8f9d",
   "metadata": {},
   "outputs": [
    {
     "name": "stdout",
     "output_type": "stream",
     "text": [
      " Grade updated: 85\n"
     ]
    }
   ],
   "source": [
    "#Update assignment grades\n",
    "\n",
    "\n",
    "submissions_col.update_one(\n",
    "    {\"submission_id\": \"S002\"},\n",
    "    {\"$set\": {\"grade\": 85}}\n",
    ")\n",
    "\n",
    "#Comfirmation\n",
    "submission = submissions_col.find_one({\"submission_id\": \"S002\"})\n",
    "if submission:\n",
    "    print(f\" Grade updated: {submission['grade']}\")\n",
    "else:\n",
    "    print(\" Submission not found.\")"
   ]
  },
  {
   "cell_type": "markdown",
   "id": "83b2368c",
   "metadata": {},
   "source": [
    "#### 4: Add tags to an existing course"
   ]
  },
  {
   "cell_type": "code",
   "execution_count": 48,
   "id": "56890dc0",
   "metadata": {},
   "outputs": [
    {
     "name": "stdout",
     "output_type": "stream",
     "text": [
      " Updated Tags for Kubernetes for Developers:\n",
      "['includes-quizzes', 'easy-to-start', 'peer-network', 'interview-prep', 'lifetime-access']\n"
     ]
    }
   ],
   "source": [
    "#Add tags to existing course \n",
    "\n",
    "courses_col.update_one(\n",
    "    {\"course_id\": \"C004\"},\n",
    "    {\"$addToSet\": {\n",
    "        \"tags\": {\n",
    "            \"$each\": [\"interview-prep\", \"lifetime-access\"]\n",
    "        }\n",
    "    }}\n",
    ")\n",
    "\n",
    "#  Confirm\n",
    "course = courses_col.find_one({\"course_id\": \"C004\"})\n",
    "if course:\n",
    "    print(f\" Updated Tags for {course['title']}:\")\n",
    "    print(course[\"tags\"])\n",
    "else:\n",
    "    print(\"Course not found.\")"
   ]
  },
  {
   "cell_type": "markdown",
   "id": "00b64d36",
   "metadata": {},
   "source": [
    "#### TASK 3.4 : DELETE OPERATIONS"
   ]
  },
  {
   "cell_type": "markdown",
   "id": "d1ff88e6",
   "metadata": {},
   "source": [
    "#### 1: Remove a user(soft deleting by setting isActive is false)"
   ]
  },
  {
   "cell_type": "code",
   "execution_count": null,
   "id": "602c4b55",
   "metadata": {},
   "outputs": [
    {
     "name": "stdout",
     "output_type": "stream",
     "text": [
      " User U002 is now marked as: Inactive\n"
     ]
    }
   ],
   "source": [
    "#Remove a user (soft delete by setting is Active to false)\n",
    "\n",
    "\n",
    "users_col.update_one(\n",
    "    {\"user_id\": \"U002\"},\n",
    "    {\"$set\": {\"is_active\": False}}\n",
    ")\n",
    "\n",
    "# Confirm\n",
    "user = users_col.find_one({\"user_id\": \"U002\"})\n",
    "if user:\n",
    "    status = \"Active\" if user[\"is_active\"] else \"Inactive\"\n",
    "    print(f\" User {user['user_id']} is now marked as: {status}\")\n",
    "else:\n",
    "    print(\" User not found.\")"
   ]
  },
  {
   "cell_type": "markdown",
   "id": "05b32c77",
   "metadata": {},
   "source": [
    "#### 2: Delete an enrollment"
   ]
  },
  {
   "cell_type": "code",
   "execution_count": 50,
   "id": "452d0584",
   "metadata": {},
   "outputs": [
    {
     "name": "stdout",
     "output_type": "stream",
     "text": [
      "Enrollment deleted successfully.\n"
     ]
    }
   ],
   "source": [
    "#Delete an enrollment \n",
    "\n",
    "\n",
    "enrollments_col.delete_one({\"enrollment_id\": \"E002\"})\n",
    "\n",
    "# Validate\n",
    "enrollment = enrollments_col.find_one({\"enrollment_id\": \"002\"})\n",
    "if not enrollment:\n",
    "    print(\"Enrollment deleted successfully.\")\n",
    "else:\n",
    "    print(\"Enrollment still exists.\")"
   ]
  },
  {
   "cell_type": "markdown",
   "id": "f80a7429",
   "metadata": {},
   "source": [
    "#### 3: Remove a lesson from a course"
   ]
  },
  {
   "cell_type": "code",
   "execution_count": 51,
   "id": "3fd93d6b",
   "metadata": {},
   "outputs": [
    {
     "name": "stdout",
     "output_type": "stream",
     "text": [
      " Lesson deleted successfully.\n"
     ]
    }
   ],
   "source": [
    "#Remove a lesson from a course \n",
    "\n",
    "lessons_col.delete_one({\"lesson_id\": \"L003\"})\n",
    "\n",
    "\n",
    "lesson = lessons_col.find_one({\"lesson_id\": \"L003\"})\n",
    "\n",
    "if not lesson:\n",
    "    print(\" Lesson deleted successfully.\")\n",
    "else:\n",
    "    print(\" Lesson still exists.\")"
   ]
  },
  {
   "cell_type": "markdown",
   "id": "2a9a9e4d",
   "metadata": {},
   "source": [
    "#### PART 4 : ADVANCED QUERIES AND AGGREGATION\n",
    "\n",
    "#### TASK 4.1: COMPLEX QUERIES"
   ]
  },
  {
   "cell_type": "markdown",
   "id": "2c1be217",
   "metadata": {},
   "source": [
    "#### 1: Find courses with prices between $50 and $200"
   ]
  },
  {
   "cell_type": "code",
   "execution_count": 6,
   "id": "34570211",
   "metadata": {},
   "outputs": [
    {
     "name": "stdout",
     "output_type": "stream",
     "text": [
      "Courses priced between $50 and $200:\n",
      "\n",
      "  Course ID                               Title  Price\n",
      "0      C006        Data Engineering with Python     50\n",
      "1      C005  Machine Learning with scikit-learn    150\n",
      "2      C008  Deploying Applications with Docker    200\n",
      "3      C003     Building REST APIs with FastAPI    150\n",
      "4      C004                Python for Beginners    150\n",
      "5      C701         Machine Learning Foundation    150\n"
     ]
    }
   ],
   "source": [
    "#find courses within the price of 50 and 200\n",
    "\n",
    "courses = courses_col.find({\n",
    "    \"price\": {\"$gte\": 50, \"$lte\": 200}\n",
    "})\n",
    "\n",
    "# Prepare data for DataFrame\n",
    "table_data = []\n",
    "for course in courses:\n",
    "    table_data.append([course['course_id'], course['title'], course['price']])\n",
    "\n",
    "# Define DataFrame\n",
    "df = pd.DataFrame(table_data, columns=[\"Course ID\", \"Title\", \"Price\"])\n",
    "\n",
    "print(\"Courses priced between $50 and $200:\\n\")\n",
    "print(df)\n"
   ]
  },
  {
   "cell_type": "markdown",
   "id": "e7cb3553",
   "metadata": {},
   "source": [
    "#### 2: Get users who joined in the last 6 months"
   ]
  },
  {
   "cell_type": "code",
   "execution_count": 15,
   "id": "003d5e61",
   "metadata": {},
   "outputs": [
    {
     "name": "stdout",
     "output_type": "stream",
     "text": [
      "Users who joined in the last 6 months:\n",
      "\n",
      "   User ID   First Name  Last Name Date Joined\n",
      "0     U012        David      Weber  2025-04-02\n",
      "1     U008       Sharon       Kent  2025-03-17\n",
      "2     U011     Michelle      Jones  2025-05-22\n",
      "3     U018       Thomas    Sanchez  2024-12-18\n",
      "4     U003        Laura      Davis  2024-12-17\n",
      "5     U013      Heather    Herrera  2025-01-29\n",
      "6     U015        Emily      Nixon  2025-02-02\n",
      "7     U016      Barbara    Sanders  2025-04-15\n",
      "8     U017         Luke     Suarez  2025-03-06\n",
      "9     U020      Whitney      Russo  2025-02-05\n",
      "10    U004         Luis    Maxwell  2024-12-20\n",
      "11    U002        Brian     Fisher  2025-01-18\n",
      "12    U004      Brandon       Soto  2025-03-26\n",
      "13    U013       Hailey    Sanchez  2024-12-16\n",
      "14    U017     Jennifer      Moore  2024-12-16\n",
      "15    U008        James       Owen  2025-03-22\n",
      "16    U010         Noah    Oconnor  2025-02-17\n",
      "17    U001    Christine   Williams  2025-04-18\n",
      "18    U005        Sarah      Grant  2025-01-17\n",
      "19    U007  Christopher      Cross  2025-05-14\n",
      "20    U019       Sherry      Adams  2025-01-01\n",
      "21    U600      Siddiqa      Lawan  2025-06-12\n",
      "22    U001  Christopher  Henderson  2025-02-22\n",
      "23    U003  Christopher      Weber  2025-02-04\n",
      "24    U005         Ryan      Duran  2025-03-06\n",
      "25    U010     Jennifer     Miller  2025-01-05\n",
      "26    U018        Aaron  Rodriguez  2025-05-13\n",
      "27    U020       Pamela  Hernandez  2025-04-11\n",
      "28    U015     Patricia       Cain  2025-06-05\n",
      "29    U017         Mary    Shannon  2025-01-03\n",
      "30    U002       Deanna      Lopez  2025-01-25\n",
      "31    U011    Elizabeth      Lewis  2024-12-28\n",
      "32    U600      Siddiqa      Lawan  2025-06-13\n"
     ]
    }
   ],
   "source": [
    "# Calculate date 6 months ago\n",
    "six_months_ago = datetime.now() - timedelta(days=180)\n",
    "\n",
    "# Query users who joined in the last 6 months\n",
    "recent_users = users_col.find({\n",
    "    \"date_joined\": {\"$gte\": six_months_ago}\n",
    "})\n",
    "\n",
    "# Prepare data for DataFrame\n",
    "table_data = []\n",
    "for user in recent_users:\n",
    "    joined = user['date_joined'].strftime(\"%Y-%m-%d\") if isinstance(user['date_joined'], datetime) else str(user['date_joined'])\n",
    "    table_data.append([user['user_id'], user['first_name'], user['last_name'], joined])\n",
    "\n",
    "# Define DataFrame\n",
    "df = pd.DataFrame(table_data, columns=[\"User ID\", \"First Name\", \"Last Name\", \"Date Joined\"])\n",
    "\n",
    "print(\"Users who joined in the last 6 months:\\n\")\n",
    "print(df)\n",
    "\n"
   ]
  },
  {
   "cell_type": "markdown",
   "id": "d17bb497",
   "metadata": {},
   "source": [
    "#### 3: Find courses that have specific tags using $in operators"
   ]
  },
  {
   "cell_type": "code",
   "execution_count": null,
   "id": "529dabc1",
   "metadata": {},
   "outputs": [
    {
     "name": "stdout",
     "output_type": "stream",
     "text": [
      "Courses with selected tags:n\n",
      "  Course ID                        Title  \\\n",
      "0      C701  Machine Learning Foundation   \n",
      "\n",
      "                                       Tags  \n",
      "0  project-based, career-ready, interactive  \n"
     ]
    }
   ],
   "source": [
    "# Courss that have specific tags\n",
    "# Define the target tags\n",
    "target_tags = [\"career-ready\", \"assignment-driven\", \"interactive\"]\n",
    "\n",
    "# Query courses that have any of the target tags\n",
    "courses = courses_col.find({\n",
    "    \"tags\": {\"$in\": target_tags}\n",
    "})\n",
    "\n",
    "# Prepare data for DataFrame\n",
    "table_data = []\n",
    "for course in courses:\n",
    "    tags = \", \".join(course.get('tags', []))\n",
    "    table_data.append([course['course_id'], course['title'], tags])\n",
    "\n",
    "# Define DataFrame\n",
    "df = pd.DataFrame(table_data, columns=[\"Course ID\", \"Title\", \"Tags\"])\n",
    "\n",
    "print(\"Courses with selected tags:\\n\")\n",
    "print(df)\n"
   ]
  },
  {
   "cell_type": "markdown",
   "id": "ccca8cd2",
   "metadata": {},
   "source": [
    "#### 4: Retrieve assignments with due dates in the next week"
   ]
  },
  {
   "cell_type": "code",
   "execution_count": 18,
   "id": "3f47d09f",
   "metadata": {},
   "outputs": [
    {
     "name": "stdout",
     "output_type": "stream",
     "text": [
      "Assignments due in the next 7 days:\n",
      "\n",
      "  Assignment ID                                    Title    Due Date\n",
      "0          A003  Assignment 3: Kubernetes for Developers  2025-06-16\n",
      "1          A010    Assignment 10: MongoDB for Developers  2025-06-20\n"
     ]
    }
   ],
   "source": [
    "#Retrieve assignments with due dates in the next week \n",
    "\n",
    "today = datetime.now()\n",
    "next_week = today + timedelta(days=7)\n",
    "\n",
    "upcoming_assignments = assignments_col.find({\n",
    "    \"due_date\": {\n",
    "        \"$gte\": today,\n",
    "        \"$lte\": next_week\n",
    "    }\n",
    "})\n",
    "\n",
    "# Prepare data for DataFrame\n",
    "table_data = []\n",
    "for assignment in upcoming_assignments:\n",
    "    due = assignment['due_date'].strftime(\"%Y-%m-%d\") if isinstance(assignment['due_date'], datetime) else str(assignment['due_date'])\n",
    "    table_data.append([assignment['assignment_id'], assignment['title'], due])\n",
    "\n",
    "# Create DataFrame\n",
    "df = pd.DataFrame(table_data, columns=[\"Assignment ID\", \"Title\", \"Due Date\"])\n",
    "\n",
    "# Display\n",
    "print(\"Assignments due in the next 7 days:\\n\")\n",
    "print(df)"
   ]
  },
  {
   "cell_type": "markdown",
   "id": "7984b243",
   "metadata": {},
   "source": [
    "#### TASK 4.2 : AGGREGATION PIPELINE\n",
    "\n",
    "#### 1: COURSE ENROLLMENT STATISTIC"
   ]
  },
  {
   "cell_type": "markdown",
   "id": "d69950f4",
   "metadata": {},
   "source": [
    "#### i : Count total enrollment per course"
   ]
  },
  {
   "cell_type": "code",
   "execution_count": 19,
   "id": "a9b23361",
   "metadata": {},
   "outputs": [
    {
     "name": "stdout",
     "output_type": "stream",
     "text": [
      "Total enrollments per course:\n",
      "\n",
      "  Course ID  Total Enrollments\n",
      "0      C008                  5\n",
      "1      C005                  3\n",
      "2      C003                  2\n",
      "3      C007                  2\n",
      "4      C004                  1\n",
      "5      C701                  1\n",
      "6      C001                  1\n"
     ]
    }
   ],
   "source": [
    "#Count total enrollment per course\n",
    "\n",
    "# Aggregation pipeline\n",
    "pipeline = [\n",
    "    {\n",
    "        \"$group\": {\n",
    "            \"_id\": \"$course_id\",\n",
    "            \"total_enrollments\": {\"$sum\": 1}\n",
    "        }\n",
    "    },\n",
    "    {\n",
    "        \"$sort\": {\"total_enrollments\": -1}\n",
    "    }\n",
    "]\n",
    "\n",
    "# Run the aggregation\n",
    "results = list(enrollments_col.aggregate(pipeline))\n",
    "\n",
    "# Convert results to DataFrame\n",
    "df = pd.DataFrame(results)\n",
    "\n",
    "# Rename columns for clarity\n",
    "df.rename(columns={\"_id\": \"Course ID\", \"total_enrollments\": \"Total Enrollments\"}, inplace=True)\n",
    "\n",
    "# Display the DataFrame\n",
    "print(\"Total enrollments per course:\\n\")\n",
    "print(df)"
   ]
  },
  {
   "cell_type": "markdown",
   "id": "91a794df",
   "metadata": {},
   "source": [
    "#### ii: Calculate average course rating"
   ]
  },
  {
   "cell_type": "code",
   "execution_count": 20,
   "id": "9dec32f7",
   "metadata": {},
   "outputs": [
    {
     "name": "stdout",
     "output_type": "stream",
     "text": [
      "  Course ID                               Title Average Rating\n",
      "0      C001      Big Data Processing with Spark  Not Available\n",
      "1      C002      Git & GitHub for Collaboration  Not Available\n",
      "2      C006        Data Engineering with Python  Not Available\n",
      "3      C007      Big Data Processing with Spark  Not Available\n",
      "4      C005  Machine Learning with scikit-learn  Not Available\n",
      "5      C008  Deploying Applications with Docker  Not Available\n",
      "6      C003     Building REST APIs with FastAPI  Not Available\n",
      "7      C004                Python for Beginners  Not Available\n",
      "8      C701         Machine Learning Foundation  Not Available\n"
     ]
    }
   ],
   "source": [
    "#average course rating\n",
    " \n",
    "# Aggregation pipeline\n",
    "pipeline = [\n",
    "    {\n",
    "        \"$project\": {\n",
    "            \"course_id\": 1,\n",
    "            \"title\": 1,\n",
    "            \"average_rating\": {\"$avg\": \"$ratings\"}\n",
    "        }\n",
    "    },\n",
    "    {\n",
    "        \"$sort\": {\"average_rating\": -1}\n",
    "    }\n",
    "]\n",
    "\n",
    "# Run aggregation\n",
    "results = list(courses_col.aggregate(pipeline))\n",
    "\n",
    "# Format results into a DataFrame\n",
    "df = pd.DataFrame([\n",
    "    {\n",
    "        \"Course ID\": course[\"course_id\"],\n",
    "        \"Title\": course[\"title\"],\n",
    "        \"Average Rating\": round(course[\"average_rating\"], 2) if course.get(\"average_rating\") is not None else \"Not Available\"\n",
    "    }\n",
    "    for course in results\n",
    "])\n",
    "\n",
    "# Display the DataFrame\n",
    "print(df)"
   ]
  },
  {
   "cell_type": "markdown",
   "id": "faf3f413",
   "metadata": {},
   "source": [
    "#### iii: Group by course category"
   ]
  },
  {
   "cell_type": "code",
   "execution_count": 21,
   "id": "9a4edea1",
   "metadata": {},
   "outputs": [
    {
     "name": "stdout",
     "output_type": "stream",
     "text": [
      "           Category  Total Courses\n",
      "0  Data Engineering              3\n",
      "1            DevOps              2\n",
      "2   Web Development              1\n",
      "3   Cloud Computing              1\n",
      "4                AI              1\n",
      "5  Machine Learning              1\n"
     ]
    }
   ],
   "source": [
    "#Group by course category\n",
    "#Aggregation pipeline\n",
    "pipeline = [\n",
    "    {\n",
    "        \"$group\": {\n",
    "            \"_id\": \"$category\",\n",
    "            \"total_courses\": {\"$sum\": 1}\n",
    "        }\n",
    "    },\n",
    "    {\n",
    "        \"$sort\": {\"total_courses\": -1}\n",
    "    }\n",
    "]\n",
    "\n",
    "# Run aggregation\n",
    "results = list(courses_col.aggregate(pipeline))\n",
    "\n",
    "# Convert to DataFrame\n",
    "df = pd.DataFrame(results)\n",
    "\n",
    "# Rename columns for clarity\n",
    "df.rename(columns={\"_id\": \"Category\", \"total_courses\": \"Total Courses\"}, inplace=True)\n",
    "\n",
    "# Display the DataFrame\n",
    "print(df)"
   ]
  },
  {
   "cell_type": "markdown",
   "id": "9b9d6829",
   "metadata": {},
   "source": [
    "2: STUDENT PERFORMANCE ANALYSIS"
   ]
  },
  {
   "cell_type": "markdown",
   "id": "3b6c7600",
   "metadata": {},
   "source": [
    "#### i: Average grade per student"
   ]
  },
  {
   "cell_type": "code",
   "execution_count": 22,
   "id": "85233a48",
   "metadata": {},
   "outputs": [
    {
     "name": "stdout",
     "output_type": "stream",
     "text": [
      "  Student ID  Average Grade\n",
      "0       U009           85.0\n",
      "1       U019  Not Available\n",
      "2       U010  Not Available\n",
      "3       U008  Not Available\n",
      "4       U006  Not Available\n",
      "5       U020  Not Available\n",
      "6       U007  Not Available\n",
      "7       U004  Not Available\n"
     ]
    }
   ],
   "source": [
    "#average grade per student \n",
    "\n",
    "# Aggregation pipeline\n",
    "pipeline = [\n",
    "    {\n",
    "        \"$group\": {\n",
    "            \"_id\": \"$user_id\",\n",
    "            \"average_grade\": {\"$avg\": \"$grade\"}\n",
    "        }\n",
    "    },\n",
    "    {\n",
    "        \"$sort\": {\"average_grade\": -1}\n",
    "    }\n",
    "]\n",
    "\n",
    "# Run aggregation\n",
    "results = list(submissions_col.aggregate(pipeline))\n",
    "\n",
    "# Convert results to DataFrame\n",
    "df = pd.DataFrame([\n",
    "    {\n",
    "        \"Student ID\": student[\"_id\"],\n",
    "        \"Average Grade\": round(student[\"average_grade\"], 2) if student.get(\"average_grade\") is not None else \"Not Available\"\n",
    "    }\n",
    "    for student in results\n",
    "])\n",
    "\n",
    "# Display DataFrame\n",
    "print(df)"
   ]
  },
  {
   "cell_type": "markdown",
   "id": "e2509def",
   "metadata": {},
   "source": [
    "#### ii: Completion rate by courses"
   ]
  },
  {
   "cell_type": "code",
   "execution_count": 23,
   "id": "da811368",
   "metadata": {},
   "outputs": [
    {
     "name": "stdout",
     "output_type": "stream",
     "text": [
      " Completion rate by course\n"
     ]
    }
   ],
   "source": [
    "#Calculate completion rate by course \n",
    "\n",
    "pipeline = [\n",
    "    {\n",
    "        \"$match\": {\"status\": \"completed\"}\n",
    "    },\n",
    "    {\n",
    "        \"$group\": {\n",
    "            \"_id\": \"$course_id\",\n",
    "            \"completed_count\": {\"$sum\": 1}\n",
    "        }\n",
    "    },\n",
    "    {\n",
    "        \"$lookup\": {\n",
    "            \"from\": \"enrollments\",\n",
    "            \"localField\": \"_id\",\n",
    "            \"foreignField\": \"course_id\",\n",
    "            \"as\": \"enrollments\"\n",
    "        }\n",
    "    },\n",
    "    {\n",
    "        \"$project\": {\n",
    "            \"course_id\": \"$_id\",\n",
    "            \"completed_count\": 1,\n",
    "            \"total_enrolled\": {\"$size\": \"$enrollments\"},\n",
    "            \"completion_rate\": {\n",
    "                \"$cond\": [\n",
    "                    {\"$eq\": [{\"$size\": \"$enrollments\"}, 0]},\n",
    "                    0,\n",
    "                    {\n",
    "                        \"$multiply\": [\n",
    "                            {\"$divide\": [\"$completed_count\", {\"$size\": \"$enrollments\"}]},\n",
    "                            100\n",
    "                        ]\n",
    "                    }\n",
    "                ]\n",
    "            }\n",
    "        }\n",
    "    },\n",
    "    {\n",
    "        \"$sort\": {\"completion_rate\": -1}\n",
    "    }\n",
    "]\n",
    "\n",
    "results = list(submissions_col.aggregate(pipeline))\n",
    "\n",
    "print(\" Completion rate by course\")\n",
    "for item in results:\n",
    "    print(f\"{item['course_id']} → {round(item['completion_rate'], 2)}%\")"
   ]
  },
  {
   "cell_type": "markdown",
   "id": "edb5c3b4",
   "metadata": {},
   "source": [
    "#### iii: Top performing student"
   ]
  },
  {
   "cell_type": "code",
   "execution_count": 24,
   "id": "0c4b964c",
   "metadata": {},
   "outputs": [
    {
     "name": "stdout",
     "output_type": "stream",
     "text": [
      "  Student ID  Average Grade  Total Submissions\n",
      "0       U009           85.0                  2\n",
      "1       U010  Not Available                  3\n",
      "2       U019  Not Available                  1\n",
      "3       U008  Not Available                  1\n",
      "4       U004  Not Available                  2\n"
     ]
    }
   ],
   "source": [
    "#Top performing student (top 5)\n",
    "\n",
    "# Aggregation pipeline\n",
    "pipeline = [\n",
    "    {\n",
    "        \"$group\": {\n",
    "            \"_id\": \"$user_id\",\n",
    "            \"average_grade\": {\"$avg\": \"$grade\"},\n",
    "            \"total_submissions\": {\"$sum\": 1}\n",
    "        }\n",
    "    },\n",
    "    {\n",
    "        \"$sort\": {\"average_grade\": -1}\n",
    "    },\n",
    "    {\n",
    "        \"$limit\": 5\n",
    "    }\n",
    "]\n",
    "\n",
    "# Run aggregation\n",
    "results = list(submissions_col.aggregate(pipeline))\n",
    "\n",
    "# Convert results to DataFrame\n",
    "df = pd.DataFrame([\n",
    "    {\n",
    "        \"Student ID\": student[\"_id\"],\n",
    "        \"Average Grade\": round(student[\"average_grade\"], 2) if student.get(\"average_grade\") is not None else \"Not Available\",\n",
    "        \"Total Submissions\": student[\"total_submissions\"]\n",
    "    }\n",
    "    for student in results\n",
    "])\n",
    "\n",
    "# Display DataFrame\n",
    "print(df)"
   ]
  },
  {
   "cell_type": "markdown",
   "id": "ae0de3b4",
   "metadata": {},
   "source": [
    "#### 3: INSTRUCTOR ANALYSIS"
   ]
  },
  {
   "cell_type": "markdown",
   "id": "66d08a6c",
   "metadata": {},
   "source": [
    "#### i: Total student taught by each instructor"
   ]
  },
  {
   "cell_type": "code",
   "execution_count": 25,
   "id": "12d2839f",
   "metadata": {},
   "outputs": [
    {
     "name": "stdout",
     "output_type": "stream",
     "text": [
      "  instructor_id  total_students\n",
      "0          U005               6\n",
      "1          U013               2\n",
      "2          U016               1\n",
      "3          U001               3\n",
      "4          U003               1\n",
      "5          U007               1\n"
     ]
    }
   ],
   "source": [
    "#Instructor analysis\n",
    "\n",
    "# Aggregation pipeline\n",
    "pipeline = [\n",
    "    {\n",
    "        \"$lookup\": {\n",
    "            \"from\": \"courses\",\n",
    "            \"localField\": \"course_id\",\n",
    "            \"foreignField\": \"course_id\",\n",
    "            \"as\": \"course_info\"\n",
    "        }\n",
    "    },\n",
    "    { \"$unwind\": \"$course_info\" },\n",
    "    {\n",
    "        \"$group\": {\n",
    "            \"_id\": \"$course_info.instructor_id\",\n",
    "            \"total_students\": { \"$addToSet\": \"$user_id\" }\n",
    "        }\n",
    "    },\n",
    "    {\n",
    "        \"$project\": {\n",
    "            \"instructor_id\": \"$_id\",\n",
    "            \"total_students\": { \"$size\": \"$total_students\" },\n",
    "            \"_id\": 0\n",
    "        }\n",
    "    }\n",
    "]\n",
    "\n",
    "# Run aggregation\n",
    "results = list(enrollments_col.aggregate(pipeline))\n",
    "\n",
    "# Convert results to DataFrame\n",
    "df = pd.DataFrame(results)\n",
    "\n",
    "# Display DataFrame\n",
    "print(df)"
   ]
  },
  {
   "cell_type": "markdown",
   "id": "f3bb73db",
   "metadata": {},
   "source": [
    "ii:  Average course rating per instructor"
   ]
  },
  {
   "cell_type": "code",
   "execution_count": 26,
   "id": "810aa4b7",
   "metadata": {},
   "outputs": [
    {
     "name": "stdout",
     "output_type": "stream",
     "text": [
      "  Instructor ID Average Rating\n",
      "0          U005  Not Available\n",
      "1          U003  Not Available\n",
      "2          U013  Not Available\n",
      "3          U001  Not Available\n",
      "4          U007  Not Available\n",
      "5          U016  Not Available\n",
      "6          U018  Not Available\n"
     ]
    }
   ],
   "source": [
    "#average course rating per instructor \n",
    "# Aggregation pipeline\n",
    "pipeline = [\n",
    "    {\n",
    "        \"$group\": {\n",
    "            \"_id\": \"$instructor_id\",\n",
    "            \"average_rating\": { \"$avg\": \"$rating\" }\n",
    "        }\n",
    "    },\n",
    "    {\n",
    "        \"$project\": {\n",
    "            \"instructor_id\": \"$_id\",\n",
    "            \"average_rating\": 1,\n",
    "            \"_id\": 0\n",
    "        }\n",
    "    }\n",
    "]\n",
    "\n",
    "# Run aggregation\n",
    "results = list(courses_col.aggregate(pipeline))\n",
    "\n",
    "# Convert results to DataFrame\n",
    "df = pd.DataFrame([\n",
    "    {\n",
    "        \"Instructor ID\": item[\"instructor_id\"],\n",
    "        \"Average Rating\": round(item[\"average_rating\"], 2) if item.get(\"average_rating\") is not None else \"Not Available\"\n",
    "    }\n",
    "    for item in results\n",
    "])\n",
    "\n",
    "# Display DataFrame\n",
    "print(df)\n",
    " "
   ]
  },
  {
   "cell_type": "markdown",
   "id": "4b85980b",
   "metadata": {},
   "source": [
    "iii: Revenue generated per instructor"
   ]
  },
  {
   "cell_type": "code",
   "execution_count": 27,
   "id": "6340f9d2",
   "metadata": {},
   "outputs": [
    {
     "name": "stdout",
     "output_type": "stream",
     "text": [
      "   total_revenue instructor_id\n",
      "0          450.0          U001\n",
      "1          150.0          U003\n",
      "2          150.0          U007\n",
      "3         1300.0          U005\n",
      "4          500.0          U013\n",
      "5          250.0          U016\n"
     ]
    }
   ],
   "source": [
    "#Revenue generated per instructor \n",
    "\n",
    "# Aggregation pipeline\n",
    "pipeline = [\n",
    "    {\n",
    "        \"$lookup\": {\n",
    "            \"from\": \"courses\",\n",
    "            \"localField\": \"course_id\",\n",
    "            \"foreignField\": \"course_id\",\n",
    "            \"as\": \"course_info\"\n",
    "        }\n",
    "    },\n",
    "    { \"$unwind\": \"$course_info\" },\n",
    "    {\n",
    "        \"$group\": {\n",
    "            \"_id\": \"$course_info.instructor_id\",\n",
    "            \"total_revenue\": { \"$sum\": \"$course_info.price\" }\n",
    "        }\n",
    "    },\n",
    "    {\n",
    "        \"$project\": {\n",
    "            \"instructor_id\": \"$_id\",\n",
    "            \"total_revenue\": 1,\n",
    "            \"_id\": 0\n",
    "        }\n",
    "    }\n",
    "]\n",
    "\n",
    "# Run aggregation\n",
    "results = list(enrollments_col.aggregate(pipeline))\n",
    "\n",
    "# Convert results to DataFrame\n",
    "df = pd.DataFrame(results)\n",
    "\n",
    "# Optionally format total_revenue as float or int\n",
    "df['total_revenue'] = df['total_revenue'].astype(float)\n",
    "\n",
    "# Display DataFrame\n",
    "print(df)\n"
   ]
  },
  {
   "cell_type": "markdown",
   "id": "8f94da31",
   "metadata": {},
   "source": [
    "#### 4: ADVANCED ANALYTICS"
   ]
  },
  {
   "cell_type": "markdown",
   "id": "0a3a5f83",
   "metadata": {},
   "source": [
    "i: Monthly enrollment trends"
   ]
  },
  {
   "cell_type": "code",
   "execution_count": 28,
   "id": "2224888d",
   "metadata": {},
   "outputs": [
    {
     "name": "stdout",
     "output_type": "stream",
     "text": [
      "  Year-Month  Total Enrollments\n",
      "0  None-None                 15\n"
     ]
    }
   ],
   "source": [
    "#monthly enrolment trends\n",
    "\n",
    "# Aggregation pipeline\n",
    "pipeline = [\n",
    "    {\n",
    "        \"$group\": {\n",
    "            \"_id\": {\n",
    "                \"year\": { \"$year\": \"$enrolled_at\" },\n",
    "                \"month\": { \"$month\": \"$enrolled_at\" }\n",
    "            },\n",
    "            \"total_enrollments\": { \"$sum\": 1 }\n",
    "        }\n",
    "    },\n",
    "    {\n",
    "        \"$sort\": {\n",
    "            \"_id.year\": 1,\n",
    "            \"_id.month\": 1\n",
    "        }\n",
    "    }\n",
    "]\n",
    "\n",
    "# Run aggregation\n",
    "results = list(enrollments_col.aggregate(pipeline))\n",
    "\n",
    "# Convert to DataFrame\n",
    "df = pd.DataFrame([\n",
    "    {\n",
    "        \"Year\": item[\"_id\"][\"year\"],\n",
    "        \"Month\": item[\"_id\"][\"month\"],\n",
    "        \"Total Enrollments\": item[\"total_enrollments\"]\n",
    "    }\n",
    "    for item in results\n",
    "])\n",
    "\n",
    "# Optionally, create a proper date column\n",
    "df['Year-Month'] = df.apply(lambda row: f\"{row['Year']}-{str(row['Month']).zfill(2)}\", axis=1)\n",
    "\n",
    "# Display DataFrame\n",
    "print(df[['Year-Month', 'Total Enrollments']])"
   ]
  },
  {
   "cell_type": "markdown",
   "id": "53564cc7",
   "metadata": {},
   "source": [
    "#### ii: Most popular course categories"
   ]
  },
  {
   "cell_type": "code",
   "execution_count": 29,
   "id": "827e98dd",
   "metadata": {},
   "outputs": [
    {
     "name": "stdout",
     "output_type": "stream",
     "text": [
      "           Category  Total Enrollments\n",
      "0            DevOps                  7\n",
      "1  Data Engineering                  3\n",
      "2   Cloud Computing                  3\n",
      "3  Machine Learning                  1\n",
      "4   Web Development                  1\n"
     ]
    }
   ],
   "source": [
    "#most popular course categories\n",
    "# Aggregation pipeline\n",
    "pipeline = [\n",
    "    {\n",
    "        \"$lookup\": {\n",
    "            \"from\": \"courses\",\n",
    "            \"localField\": \"course_id\",\n",
    "            \"foreignField\": \"course_id\",\n",
    "            \"as\": \"course_info\"\n",
    "        }\n",
    "    },\n",
    "    { \"$unwind\": \"$course_info\" },\n",
    "    {\n",
    "        \"$group\": {\n",
    "            \"_id\": \"$course_info.category\",\n",
    "            \"total_enrollments\": { \"$sum\": 1 }\n",
    "        }\n",
    "    },\n",
    "    {\n",
    "        \"$sort\": { \"total_enrollments\": -1 }\n",
    "    }\n",
    "]\n",
    "\n",
    "results = list(enrollments_col.aggregate(pipeline))\n",
    "\n",
    "# Convert to DataFrame\n",
    "df = pd.DataFrame([\n",
    "    {\n",
    "        \"Category\": item[\"_id\"],\n",
    "        \"Total Enrollments\": item[\"total_enrollments\"]\n",
    "    }\n",
    "    for item in results\n",
    "])\n",
    "\n",
    "print(df)"
   ]
  },
  {
   "cell_type": "markdown",
   "id": "cc572d98",
   "metadata": {},
   "source": [
    "#### iii: Student engagement metrics"
   ]
  },
  {
   "cell_type": "code",
   "execution_count": 30,
   "id": "53feab78",
   "metadata": {},
   "outputs": [
    {
     "name": "stdout",
     "output_type": "stream",
     "text": [
      "   user_id  courses_enrolled  assignments_submitted\n",
      "0     U010                 1                      3\n",
      "1     U019                 2                      1\n",
      "2     U009                 1                      2\n",
      "3     U006                 1                      1\n",
      "4     U014                 2                      0\n",
      "5     U017                 1                      0\n",
      "6     U020                 1                      1\n",
      "7     U004                 2                      2\n",
      "8     U600                 1                      0\n",
      "9     U007                 3                      1\n",
      "10    U008                 0                      1\n"
     ]
    }
   ],
   "source": [
    "\n",
    "\n",
    "# 1. Number of Courses Enrolled per Student\n",
    "pipeline_courses = [\n",
    "    {\n",
    "        \"$group\": {\n",
    "            \"_id\": \"$user_id\",\n",
    "            \"courses_enrolled\": { \"$sum\": 1 }\n",
    "        }\n",
    "    },\n",
    "    {\n",
    "        \"$project\": {\n",
    "            \"user_id\": \"$_id\",\n",
    "            \"courses_enrolled\": 1,\n",
    "            \"_id\": 0\n",
    "        }\n",
    "    }\n",
    "]\n",
    "courses_enrolled = list(enrollments_col.aggregate(pipeline_courses))\n",
    "\n",
    "# 2. Number of Assignments Submitted per Student\n",
    "pipeline_assignments = [\n",
    "    {\n",
    "        \"$group\": {\n",
    "            \"_id\": \"$user_id\",\n",
    "            \"assignments_submitted\": { \"$sum\": 1 }\n",
    "        }\n",
    "    },\n",
    "    {\n",
    "        \"$project\": {\n",
    "            \"user_id\": \"$_id\",\n",
    "            \"assignments_submitted\": 1,\n",
    "            \"_id\": 0\n",
    "        }\n",
    "    }\n",
    "]\n",
    "assignments_done = list(submissions_col.aggregate(pipeline_assignments))\n",
    "\n",
    "# Combine metrics into a single dictionary keyed by user_id\n",
    "engagement = {}\n",
    "\n",
    "for item in courses_enrolled:\n",
    "    user_id = item[\"user_id\"]\n",
    "    engagement[user_id] = engagement.get(user_id, {\"courses_enrolled\": 0, \"assignments_submitted\": 0})\n",
    "    engagement[user_id][\"courses_enrolled\"] = item[\"courses_enrolled\"]\n",
    "\n",
    "for item in assignments_done:\n",
    "    user_id = item[\"user_id\"]\n",
    "    engagement[user_id] = engagement.get(user_id, {\"courses_enrolled\": 0, \"assignments_submitted\": 0})\n",
    "    engagement[user_id][\"assignments_submitted\"] = item[\"assignments_submitted\"]\n",
    "\n",
    "# Convert to DataFrame\n",
    "df = pd.DataFrame([\n",
    "    {\"user_id\": user_id,\n",
    "     \"courses_enrolled\": metrics[\"courses_enrolled\"],\n",
    "     \"assignments_submitted\": metrics[\"assignments_submitted\"]}\n",
    "    for user_id, metrics in engagement.items()\n",
    "])\n",
    "\n",
    "print(df)\n"
   ]
  },
  {
   "cell_type": "markdown",
   "id": "34b49201",
   "metadata": {},
   "source": [
    "#### PART 5: INDEXING AND PERFORMANCE\n",
    "\n",
    "#### TASK 5.1: INDEX CALCULATION"
   ]
  },
  {
   "cell_type": "markdown",
   "id": "379ec4f1",
   "metadata": {},
   "source": [
    "1: User email lookup"
   ]
  },
  {
   "cell_type": "code",
   "execution_count": 69,
   "id": "973e4e38",
   "metadata": {},
   "outputs": [
    {
     "name": "stdout",
     "output_type": "stream",
     "text": [
      " User found: Luis Maxwell\n"
     ]
    }
   ],
   "source": [
    "#User email lookup\n",
    "\n",
    "\n",
    "# Create an index on email field to speed up lookups\n",
    "users_col.create_index(\"email\")\n",
    "\n",
    "# Test the index with a lookup\n",
    "email_to_find = \"amy75@example.net\"\n",
    "user = users_col.find_one({\"email\": email_to_find})\n",
    "\n",
    "if user:\n",
    "    print(f\" User found: {user['first_name']} {user['last_name']}\")\n",
    "else:\n",
    "    print(\" User not found.\")"
   ]
  },
  {
   "cell_type": "markdown",
   "id": "1eba6f87",
   "metadata": {},
   "source": [
    "2: Courses search by title and category"
   ]
  },
  {
   "cell_type": "code",
   "execution_count": 72,
   "id": "2801ed7c",
   "metadata": {},
   "outputs": [
    {
     "name": "stdout",
     "output_type": "stream",
     "text": [
      "Kubernetes for Developers → AI\n"
     ]
    }
   ],
   "source": [
    "#Course search by title and category \n",
    "\n",
    "\n",
    "# Create compound index on title and category fields\n",
    "courses_col.create_index([(\"title\", 1), (\"category\", 1)])\n",
    "\n",
    "# Example search: partial title match (case-insensitive) and exact category\n",
    "title_keyword = \"Kubernetes for Developers\"\n",
    "category_filter = \"AI\"\n",
    "\n",
    "courses = courses_col.find({\n",
    "    \"title\": { \"$regex\": title_keyword, \"$options\": \"i\" },\n",
    "    \"category\": category_filter\n",
    "})\n",
    "\n",
    "# Display results\n",
    "for course in courses:\n",
    "    print(f\"{course['title']} → {course['category']}\")"
   ]
  },
  {
   "cell_type": "markdown",
   "id": "366479b5",
   "metadata": {},
   "source": [
    "3: Assignment queries by due date"
   ]
  },
  {
   "cell_type": "code",
   "execution_count": 73,
   "id": "ee11518b",
   "metadata": {},
   "outputs": [
    {
     "name": "stdout",
     "output_type": "stream",
     "text": [
      "Assignment 6: Unit Testing in Python → Due: 2025-06-16\n",
      "Assignment 1: Computer Vision with OpenCV → Due: 2025-06-18\n",
      "Assignment 7: Building REST APIs with FastAPI → Due: 2025-06-19\n"
     ]
    }
   ],
   "source": [
    "#Assignment queries by due date\n",
    "\n",
    "\n",
    "\n",
    "# Create index on due_date for fast date-based queries\n",
    "assignments_col.create_index(\"due_date\")\n",
    "\n",
    "# Example: Find assignments due within the next 7 days\n",
    "from datetime import datetime, timedelta\n",
    "\n",
    "today = datetime.now()\n",
    "next_week = today + timedelta(days=7)\n",
    "\n",
    "upcoming_assignments = assignments_col.find({\n",
    "    \"due_date\": { \"$gte\": today, \"$lte\": next_week }\n",
    "})\n",
    "\n",
    "# Display results\n",
    "for a in upcoming_assignments:\n",
    "    print(f\"{a['title']} → Due: {a['due_date'].strftime('%Y-%m-%d')}\")"
   ]
  },
  {
   "cell_type": "markdown",
   "id": "f573df23",
   "metadata": {},
   "source": [
    "4: Enrollemt queries by student and courses"
   ]
  },
  {
   "cell_type": "code",
   "execution_count": 78,
   "id": "22facd43",
   "metadata": {},
   "outputs": [
    {
     "name": "stdout",
     "output_type": "stream",
     "text": [
      "Student U013 is enrolled in Course C004\n",
      "Student U013 is enrolled in Course C004\n"
     ]
    }
   ],
   "source": [
    "#Enrollment queries by student and courses \n",
    "\n",
    "\n",
    "# Create indexes on student_id and course_id\n",
    "enrollments_col.create_index(\"user_id\")\n",
    "enrollments_col.create_index(\"course_id\")\n",
    "\n",
    "# Example: Find all enrollments of a specific student in a specific course\n",
    "user_id = \"U013\"\n",
    "course_id = \"C004\"\n",
    "\n",
    "enrollments = enrollments_col.find({\n",
    "    \"user_id\": user_id,\n",
    "    \"course_id\": course_id\n",
    "})\n",
    "\n",
    "# Display results\n",
    "for e in enrollments:\n",
    "    print(f\"Student {e['user_id']} is enrolled in Course {e['course_id']}\")"
   ]
  },
  {
   "cell_type": "markdown",
   "id": "8828182c",
   "metadata": {},
   "source": [
    "#### TASK 5.2 : QUERY OPTIMIZATION\n",
    "\n",
    "1: Analyze query performance using explain() method in PyMongo"
   ]
  },
  {
   "cell_type": "code",
   "execution_count": null,
   "id": "f93b958e",
   "metadata": {},
   "outputs": [
    {
     "name": "stdout",
     "output_type": "stream",
     "text": [
      "Query Execution Stats:\n",
      "Execution Time (ms): 0\n",
      "Total Documents Examined: 2\n",
      "Index Used: title_1_category_1\n"
     ]
    }
   ],
   "source": [
    "#Analyze query performance using explain() method in pymongo \n",
    "\n",
    "\n",
    "\n",
    "# Example query (search course by title, case-insensitive)\n",
    "query = {\n",
    "    \"title\": { \"$regex\": \"python\", \"$options\": \"i\" }\n",
    "}\n",
    "\n",
    "# Using xplain to analyze query performance\n",
    "explain_result = courses_col.find(query).explain()\n",
    "\n",
    "# Print key insights\n",
    "print(\"Query Execution Stats:\")\n",
    "print(\"Execution Time (ms):\", explain_result[\"executionStats\"][\"executionTimeMillis\"])\n",
    "print(\"Total Documents Examined:\", explain_result[\"executionStats\"][\"totalDocsExamined\"])\n",
    "print(\"Index Used:\", explain_result[\"queryPlanner\"][\"winningPlan\"][\"inputStage\"].get(\"indexName\", \"None\"))"
   ]
  },
  {
   "cell_type": "markdown",
   "id": "0317d1dc",
   "metadata": {},
   "source": [
    "2 : Optimize at least 3 slow queries\n",
    "\n",
    "1 Find Courses by Title and Category"
   ]
  },
  {
   "cell_type": "code",
   "execution_count": 82,
   "id": "cd57d518",
   "metadata": {},
   "outputs": [
    {
     "data": {
      "text/plain": [
       "{'explainVersion': '1',\n",
       " 'queryPlanner': {'namespace': 'eduhub_db.courses',\n",
       "  'parsedQuery': {'$and': [{'category': {'$eq': 'Machine Learning'}},\n",
       "    {'title': {'$regex': 'python', '$options': 'i'}}]},\n",
       "  'indexFilterSet': False,\n",
       "  'queryHash': '155DDD63',\n",
       "  'planCacheShapeHash': '155DDD63',\n",
       "  'planCacheKey': '31292C86',\n",
       "  'optimizationTimeMillis': 0,\n",
       "  'maxIndexedOrSolutionsReached': False,\n",
       "  'maxIndexedAndSolutionsReached': False,\n",
       "  'maxScansToExplodeReached': False,\n",
       "  'prunedSimilarIndexes': False,\n",
       "  'winningPlan': {'isCached': False,\n",
       "   'stage': 'FETCH',\n",
       "   'inputStage': {'stage': 'IXSCAN',\n",
       "    'filter': {'title': {'$regex': 'python', '$options': 'i'}},\n",
       "    'keyPattern': {'title': 1, 'category': 1},\n",
       "    'indexName': 'title_1_category_1',\n",
       "    'isMultiKey': False,\n",
       "    'multiKeyPaths': {'title': [], 'category': []},\n",
       "    'isUnique': False,\n",
       "    'isSparse': False,\n",
       "    'isPartial': False,\n",
       "    'indexVersion': 2,\n",
       "    'direction': 'forward',\n",
       "    'indexBounds': {'title': ['[\"\", {})', '[/python/i, /python/i]'],\n",
       "     'category': ['[\"Machine Learning\", \"Machine Learning\"]']}}},\n",
       "  'rejectedPlans': []},\n",
       " 'executionStats': {'executionSuccess': True,\n",
       "  'nReturned': 0,\n",
       "  'executionTimeMillis': 0,\n",
       "  'totalKeysExamined': 8,\n",
       "  'totalDocsExamined': 0,\n",
       "  'executionStages': {'isCached': False,\n",
       "   'stage': 'FETCH',\n",
       "   'nReturned': 0,\n",
       "   'executionTimeMillisEstimate': 0,\n",
       "   'works': 9,\n",
       "   'advanced': 0,\n",
       "   'needTime': 8,\n",
       "   'needYield': 0,\n",
       "   'saveState': 0,\n",
       "   'restoreState': 0,\n",
       "   'isEOF': 1,\n",
       "   'docsExamined': 0,\n",
       "   'alreadyHasObj': 0,\n",
       "   'inputStage': {'stage': 'IXSCAN',\n",
       "    'filter': {'title': {'$regex': 'python', '$options': 'i'}},\n",
       "    'nReturned': 0,\n",
       "    'executionTimeMillisEstimate': 0,\n",
       "    'works': 9,\n",
       "    'advanced': 0,\n",
       "    'needTime': 8,\n",
       "    'needYield': 0,\n",
       "    'saveState': 0,\n",
       "    'restoreState': 0,\n",
       "    'isEOF': 1,\n",
       "    'keyPattern': {'title': 1, 'category': 1},\n",
       "    'indexName': 'title_1_category_1',\n",
       "    'isMultiKey': False,\n",
       "    'multiKeyPaths': {'title': [], 'category': []},\n",
       "    'isUnique': False,\n",
       "    'isSparse': False,\n",
       "    'isPartial': False,\n",
       "    'indexVersion': 2,\n",
       "    'direction': 'forward',\n",
       "    'indexBounds': {'title': ['[\"\", {})', '[/python/i, /python/i]'],\n",
       "     'category': ['[\"Machine Learning\", \"Machine Learning\"]']},\n",
       "    'keysExamined': 8,\n",
       "    'seeks': 8,\n",
       "    'dupsTested': 0,\n",
       "    'dupsDropped': 0}},\n",
       "  'allPlansExecution': []},\n",
       " 'queryShapeHash': '55092E0E84192866D6BD6C301B7C0CCDA56FE4E732539C2B30CD219AABC20E2D',\n",
       " 'command': {'find': 'courses',\n",
       "  'filter': {'title': {'$regex': 'python', '$options': 'i'},\n",
       "   'category': 'Machine Learning'},\n",
       "  '$db': 'eduhub_db'},\n",
       " 'serverInfo': {'host': 'ac-9cwocwr-shard-00-01.jjgozve.mongodb.net',\n",
       "  'port': 27017,\n",
       "  'version': '8.0.9',\n",
       "  'gitVersion': 'f882ef816d531ecfbb593843e4c554fda90ca416'},\n",
       " 'serverParameters': {'internalQueryFacetBufferSizeBytes': 104857600,\n",
       "  'internalQueryFacetMaxOutputDocSizeBytes': 104857600,\n",
       "  'internalLookupStageIntermediateDocumentMaxSizeBytes': 16793600,\n",
       "  'internalDocumentSourceGroupMaxMemoryBytes': 104857600,\n",
       "  'internalQueryMaxBlockingSortMemoryUsageBytes': 33554432,\n",
       "  'internalQueryProhibitBlockingMergeOnMongoS': 0,\n",
       "  'internalQueryMaxAddToSetBytes': 104857600,\n",
       "  'internalDocumentSourceSetWindowFieldsMaxMemoryBytes': 104857600,\n",
       "  'internalQueryFrameworkControl': 'trySbeRestricted',\n",
       "  'internalQueryPlannerIgnoreIndexWithCollationForRegex': 1},\n",
       " 'ok': 1.0,\n",
       " '$clusterTime': {'clusterTime': Timestamp(1749745832, 16),\n",
       "  'signature': {'hash': b'\\x8c\\x086:)\\x14\\xe5\\xee\\xe9\\xd0o\\xcc\\xf7j\\x02\\xacwd\\xaf\\x92',\n",
       "   'keyId': 7464297940882817025}},\n",
       " 'operationTime': Timestamp(1749745832, 16)}"
      ]
     },
     "execution_count": 82,
     "metadata": {},
     "output_type": "execute_result"
    }
   ],
   "source": [
    "#Optimize at least 3 slow queries \n",
    "\n",
    "\n",
    "#Slow query \n",
    "\n",
    "courses_col.find({\n",
    "    \"title\": { \"$regex\": \"python\", \"$options\": \"i\" },\n",
    "    \"category\": \"Machine Learning\"\n",
    "})\n",
    "\n",
    "\n",
    "#Optimization \n",
    "\n",
    "# Create compound index\n",
    "courses_col.create_index([(\"title\", 1), (\"category\", 1)])\n",
    "\n",
    "\n",
    "#Analyze\n",
    "\n",
    "courses_col.find({\n",
    "    \"title\": { \"$regex\": \"python\", \"$options\": \"i\" },\n",
    "    \"category\": \"Machine Learning\"\n",
    "}).explain()\n"
   ]
  },
  {
   "cell_type": "markdown",
   "id": "4f1be6e1",
   "metadata": {},
   "source": [
    "2. Find Assignments Due in Next 7 Days"
   ]
  },
  {
   "cell_type": "code",
   "execution_count": 83,
   "id": "dd41421e",
   "metadata": {},
   "outputs": [
    {
     "data": {
      "text/plain": [
       "{'explainVersion': '1',\n",
       " 'queryPlanner': {'namespace': 'eduhub_db.assignments',\n",
       "  'parsedQuery': {'$and': [{'due_date': {'$lte': datetime.datetime(2025, 6, 19, 17, 33, 19, 263000)}},\n",
       "    {'due_date': {'$gte': datetime.datetime(2025, 6, 12, 17, 33, 19, 263000)}}]},\n",
       "  'indexFilterSet': False,\n",
       "  'queryHash': '63C5D55B',\n",
       "  'planCacheShapeHash': '63C5D55B',\n",
       "  'planCacheKey': '6B7DE233',\n",
       "  'optimizationTimeMillis': 0,\n",
       "  'maxIndexedOrSolutionsReached': False,\n",
       "  'maxIndexedAndSolutionsReached': False,\n",
       "  'maxScansToExplodeReached': False,\n",
       "  'prunedSimilarIndexes': False,\n",
       "  'winningPlan': {'isCached': False,\n",
       "   'stage': 'FETCH',\n",
       "   'inputStage': {'stage': 'IXSCAN',\n",
       "    'keyPattern': {'due_date': 1},\n",
       "    'indexName': 'due_date_1',\n",
       "    'isMultiKey': False,\n",
       "    'multiKeyPaths': {'due_date': []},\n",
       "    'isUnique': False,\n",
       "    'isSparse': False,\n",
       "    'isPartial': False,\n",
       "    'indexVersion': 2,\n",
       "    'direction': 'forward',\n",
       "    'indexBounds': {'due_date': ['[new Date(1749749599263), new Date(1750354399263)]']}}},\n",
       "  'rejectedPlans': []},\n",
       " 'executionStats': {'executionSuccess': True,\n",
       "  'nReturned': 3,\n",
       "  'executionTimeMillis': 1,\n",
       "  'totalKeysExamined': 3,\n",
       "  'totalDocsExamined': 3,\n",
       "  'executionStages': {'isCached': False,\n",
       "   'stage': 'FETCH',\n",
       "   'nReturned': 3,\n",
       "   'executionTimeMillisEstimate': 0,\n",
       "   'works': 4,\n",
       "   'advanced': 3,\n",
       "   'needTime': 0,\n",
       "   'needYield': 0,\n",
       "   'saveState': 0,\n",
       "   'restoreState': 0,\n",
       "   'isEOF': 1,\n",
       "   'docsExamined': 3,\n",
       "   'alreadyHasObj': 0,\n",
       "   'inputStage': {'stage': 'IXSCAN',\n",
       "    'nReturned': 3,\n",
       "    'executionTimeMillisEstimate': 0,\n",
       "    'works': 4,\n",
       "    'advanced': 3,\n",
       "    'needTime': 0,\n",
       "    'needYield': 0,\n",
       "    'saveState': 0,\n",
       "    'restoreState': 0,\n",
       "    'isEOF': 1,\n",
       "    'keyPattern': {'due_date': 1},\n",
       "    'indexName': 'due_date_1',\n",
       "    'isMultiKey': False,\n",
       "    'multiKeyPaths': {'due_date': []},\n",
       "    'isUnique': False,\n",
       "    'isSparse': False,\n",
       "    'isPartial': False,\n",
       "    'indexVersion': 2,\n",
       "    'direction': 'forward',\n",
       "    'indexBounds': {'due_date': ['[new Date(1749749599263), new Date(1750354399263)]']},\n",
       "    'keysExamined': 3,\n",
       "    'seeks': 1,\n",
       "    'dupsTested': 0,\n",
       "    'dupsDropped': 0}},\n",
       "  'allPlansExecution': []},\n",
       " 'queryShapeHash': '765364BF0DF38A1A9A19B89D3B5A9948F1AD30463E75E2111915CED6430B70FE',\n",
       " 'command': {'find': 'assignments',\n",
       "  'filter': {'due_date': {'$gte': datetime.datetime(2025, 6, 12, 17, 33, 19, 263000),\n",
       "    '$lte': datetime.datetime(2025, 6, 19, 17, 33, 19, 263000)}},\n",
       "  '$db': 'eduhub_db'},\n",
       " 'serverInfo': {'host': 'ac-9cwocwr-shard-00-01.jjgozve.mongodb.net',\n",
       "  'port': 27017,\n",
       "  'version': '8.0.9',\n",
       "  'gitVersion': 'f882ef816d531ecfbb593843e4c554fda90ca416'},\n",
       " 'serverParameters': {'internalQueryFacetBufferSizeBytes': 104857600,\n",
       "  'internalQueryFacetMaxOutputDocSizeBytes': 104857600,\n",
       "  'internalLookupStageIntermediateDocumentMaxSizeBytes': 16793600,\n",
       "  'internalDocumentSourceGroupMaxMemoryBytes': 104857600,\n",
       "  'internalQueryMaxBlockingSortMemoryUsageBytes': 33554432,\n",
       "  'internalQueryProhibitBlockingMergeOnMongoS': 0,\n",
       "  'internalQueryMaxAddToSetBytes': 104857600,\n",
       "  'internalDocumentSourceSetWindowFieldsMaxMemoryBytes': 104857600,\n",
       "  'internalQueryFrameworkControl': 'trySbeRestricted',\n",
       "  'internalQueryPlannerIgnoreIndexWithCollationForRegex': 1},\n",
       " 'ok': 1.0,\n",
       " '$clusterTime': {'clusterTime': Timestamp(1749745999, 7),\n",
       "  'signature': {'hash': b'\\xcb\\xbe\\xb6&\\x08\\x05\\xb9\\xcaS\\x89\\xd2\\x80R\\xc7\\x99\\x8e\\xeeOa\\xfd',\n",
       "   'keyId': 7464297940882817025}},\n",
       " 'operationTime': Timestamp(1749745999, 7)}"
      ]
     },
     "execution_count": 83,
     "metadata": {},
     "output_type": "execute_result"
    }
   ],
   "source": [
    "#2. Find Assignments Due in Next 7 Days\n",
    "\n",
    "#Slow query\n",
    "\n",
    "assignments_col.find({\n",
    "    \"due_date\": { \"$gte\": datetime.now(), \"$lte\": datetime.now() + timedelta(days=7) }\n",
    "})\n",
    "\n",
    "\n",
    "\n",
    "#Optimization \n",
    "\n",
    "# Index on due_date\n",
    "assignments_col.create_index(\"due_date\")\n",
    "\n",
    "\n",
    "#Analyze\n",
    "\n",
    "assignments_col.find({\n",
    "    \"due_date\": { \"$gte\": datetime.now(), \"$lte\": datetime.now() + timedelta(days=7) }\n",
    "}).explain()"
   ]
  },
  {
   "cell_type": "markdown",
   "id": "b65dce1f",
   "metadata": {},
   "source": [
    "3. Find All Enrollments for a Student"
   ]
  },
  {
   "cell_type": "code",
   "execution_count": 84,
   "id": "2ac729d2",
   "metadata": {},
   "outputs": [
    {
     "data": {
      "text/plain": [
       "{'explainVersion': '1',\n",
       " 'queryPlanner': {'namespace': 'eduhub_db.enrollments',\n",
       "  'parsedQuery': {'student_id': {'$eq': 'U004'}},\n",
       "  'indexFilterSet': False,\n",
       "  'queryHash': '840990DF',\n",
       "  'planCacheShapeHash': '840990DF',\n",
       "  'planCacheKey': '405F65EE',\n",
       "  'optimizationTimeMillis': 0,\n",
       "  'maxIndexedOrSolutionsReached': False,\n",
       "  'maxIndexedAndSolutionsReached': False,\n",
       "  'maxScansToExplodeReached': False,\n",
       "  'prunedSimilarIndexes': False,\n",
       "  'winningPlan': {'isCached': False,\n",
       "   'stage': 'FETCH',\n",
       "   'inputStage': {'stage': 'IXSCAN',\n",
       "    'keyPattern': {'student_id': 1},\n",
       "    'indexName': 'student_id_1',\n",
       "    'isMultiKey': False,\n",
       "    'multiKeyPaths': {'student_id': []},\n",
       "    'isUnique': False,\n",
       "    'isSparse': False,\n",
       "    'isPartial': False,\n",
       "    'indexVersion': 2,\n",
       "    'direction': 'forward',\n",
       "    'indexBounds': {'student_id': ['[\"U004\", \"U004\"]']}}},\n",
       "  'rejectedPlans': []},\n",
       " 'executionStats': {'executionSuccess': True,\n",
       "  'nReturned': 0,\n",
       "  'executionTimeMillis': 1,\n",
       "  'totalKeysExamined': 0,\n",
       "  'totalDocsExamined': 0,\n",
       "  'executionStages': {'isCached': False,\n",
       "   'stage': 'FETCH',\n",
       "   'nReturned': 0,\n",
       "   'executionTimeMillisEstimate': 1,\n",
       "   'works': 1,\n",
       "   'advanced': 0,\n",
       "   'needTime': 0,\n",
       "   'needYield': 0,\n",
       "   'saveState': 0,\n",
       "   'restoreState': 0,\n",
       "   'isEOF': 1,\n",
       "   'docsExamined': 0,\n",
       "   'alreadyHasObj': 0,\n",
       "   'inputStage': {'stage': 'IXSCAN',\n",
       "    'nReturned': 0,\n",
       "    'executionTimeMillisEstimate': 1,\n",
       "    'works': 1,\n",
       "    'advanced': 0,\n",
       "    'needTime': 0,\n",
       "    'needYield': 0,\n",
       "    'saveState': 0,\n",
       "    'restoreState': 0,\n",
       "    'isEOF': 1,\n",
       "    'keyPattern': {'student_id': 1},\n",
       "    'indexName': 'student_id_1',\n",
       "    'isMultiKey': False,\n",
       "    'multiKeyPaths': {'student_id': []},\n",
       "    'isUnique': False,\n",
       "    'isSparse': False,\n",
       "    'isPartial': False,\n",
       "    'indexVersion': 2,\n",
       "    'direction': 'forward',\n",
       "    'indexBounds': {'student_id': ['[\"U004\", \"U004\"]']},\n",
       "    'keysExamined': 0,\n",
       "    'seeks': 1,\n",
       "    'dupsTested': 0,\n",
       "    'dupsDropped': 0}},\n",
       "  'allPlansExecution': []},\n",
       " 'queryShapeHash': '26DCDF68AE27677A9A87384B5921BDA1E84D303D8FBF84C0D9F857EB9B11E297',\n",
       " 'command': {'find': 'enrollments',\n",
       "  'filter': {'student_id': 'U004'},\n",
       "  '$db': 'eduhub_db'},\n",
       " 'serverInfo': {'host': 'ac-9cwocwr-shard-00-01.jjgozve.mongodb.net',\n",
       "  'port': 27017,\n",
       "  'version': '8.0.9',\n",
       "  'gitVersion': 'f882ef816d531ecfbb593843e4c554fda90ca416'},\n",
       " 'serverParameters': {'internalQueryFacetBufferSizeBytes': 104857600,\n",
       "  'internalQueryFacetMaxOutputDocSizeBytes': 104857600,\n",
       "  'internalLookupStageIntermediateDocumentMaxSizeBytes': 16793600,\n",
       "  'internalDocumentSourceGroupMaxMemoryBytes': 104857600,\n",
       "  'internalQueryMaxBlockingSortMemoryUsageBytes': 33554432,\n",
       "  'internalQueryProhibitBlockingMergeOnMongoS': 0,\n",
       "  'internalQueryMaxAddToSetBytes': 104857600,\n",
       "  'internalDocumentSourceSetWindowFieldsMaxMemoryBytes': 104857600,\n",
       "  'internalQueryFrameworkControl': 'trySbeRestricted',\n",
       "  'internalQueryPlannerIgnoreIndexWithCollationForRegex': 1},\n",
       " 'ok': 1.0,\n",
       " '$clusterTime': {'clusterTime': Timestamp(1749746713, 11),\n",
       "  'signature': {'hash': b'\\x8d\\x85\\x91\\xe7\\xe4\\xbbM\\xca \\x0e\\xd6-F{\\xec\\xb6\\xaf\\x8f\\x1ef',\n",
       "   'keyId': 7464297940882817025}},\n",
       " 'operationTime': Timestamp(1749746713, 11)}"
      ]
     },
     "execution_count": 84,
     "metadata": {},
     "output_type": "execute_result"
    }
   ],
   "source": [
    "#3. Find All Enrollments for a Student\n",
    "#Slow query \n",
    "\n",
    "enrollments_col.find({ \"student_id\": \"U004\" })\n",
    "\n",
    "\n",
    "#Optimization \n",
    "\n",
    "# Index on student_id\n",
    "enrollments_col.create_index(\"student_id\")\n",
    "\n",
    "#Analyze\n",
    "\n",
    "enrollments_col.find({ \"student_id\": \"U004\" }).explain()"
   ]
  },
  {
   "cell_type": "markdown",
   "id": "692c3998",
   "metadata": {},
   "source": [
    "#### 3: Document the performance improvements using python timing functions"
   ]
  },
  {
   "cell_type": "code",
   "execution_count": 85,
   "id": "e7fae334",
   "metadata": {},
   "outputs": [
    {
     "name": "stdout",
     "output_type": "stream",
     "text": [
      " Time without index: 0.1590 seconds\n",
      " Time with index: 0.2811 seconds\n"
     ]
    }
   ],
   "source": [
    "#Document the performance improvements using python timing functions \n",
    "\n",
    "#Example: Measure and Compare Query Time (Courses by Title + Category)\n",
    "\n",
    "\n",
    "import time\n",
    "\n",
    "# Query definition\n",
    "query = {\n",
    "    \"title\": { \"$regex\": \"python\", \"$options\": \"i\" },\n",
    "    \"category\": \"Data Engineering\"\n",
    "}\n",
    "\n",
    "# Measure execution time before index\n",
    "start_time = time.time()\n",
    "courses_col.find(query).explain()\n",
    "end_time = time.time()\n",
    "print(\" Time without index: {:.4f} seconds\".format(end_time - start_time))\n",
    "\n",
    "# Create compound index\n",
    "courses_col.create_index([(\"title\", 1), (\"category\", 1)])\n",
    "\n",
    "# Measure execution time after index\n",
    "start_time = time.time()\n",
    "courses_col.find(query).explain()\n",
    "end_time = time.time()\n",
    "print(\" Time with index: {:.4f} seconds\".format(end_time - start_time))\n",
    " "
   ]
  },
  {
   "cell_type": "markdown",
   "id": "8a7768dd",
   "metadata": {},
   "source": [
    "PART 6 : DATA VALIDATION AND ERROR HANDLING\n",
    "\n",
    "TASK 6.1 : SCHEMA VALIDATION"
   ]
  },
  {
   "cell_type": "code",
   "execution_count": 86,
   "id": "52c70b68",
   "metadata": {},
   "outputs": [
    {
     "data": {
      "text/plain": [
       "InsertOneResult(ObjectId('684b06349d7952d676556463'), acknowledged=True)"
      ]
     },
     "execution_count": 86,
     "metadata": {},
     "output_type": "execute_result"
    }
   ],
   "source": [
    "#schema validation \n",
    "\n",
    "\n",
    "#Implement validation rules for :\n",
    "# 1.Required fields\n",
    "# 2. Data type validation\n",
    "#3. Enum value restictions\n",
    "#4. Email format validation\n",
    "\n",
    "\n",
    "db.create_collection(\"users_validated\", validator={\n",
    "    \"$jsonSchema\": {\n",
    "        \"bsonType\": \"object\",\n",
    "        \"required\": [\"user_id\", \"email\", \"first_name\", \"last_name\", \"role\", \"date_joined\", \"is_active\"],\n",
    "        \"properties\": {\n",
    "            \"user_id\": { \"bsonType\": \"string\" },\n",
    "            \"email\": { \"bsonType\": \"string\" },\n",
    "            \"first_name\": { \"bsonType\": \"string\" },\n",
    "            \"last_name\": { \"bsonType\": \"string\" },\n",
    "            \"role\": { \n",
    "                \"enum\": [\"student\", \"instructor\"],\n",
    "                \"description\": \"Role must be student or instructor\"\n",
    "            },\n",
    "            \"date_joined\": { \"bsonType\": \"date\" },\n",
    "            \"is_active\": { \"bsonType\": \"bool\" }\n",
    "        }\n",
    "    }\n",
    "})\n",
    "\n",
    "\n",
    "#Inserting a valid document \n",
    "\n",
    "db.users_validated.insert_one({\n",
    "    \"user_id\": \"U004\",\n",
    "    \"email\": \"amy75@example.net\",\n",
    "    \"first_name\": \"Luis\",\n",
    "    \"last_name\": \"Maxwell\",\n",
    "    \"role\": \"student\",\n",
    "    \"date_joined\": datetime.now(),\n",
    "    \"is_active\": True\n",
    "})\n",
    "\n"
   ]
  },
  {
   "cell_type": "markdown",
   "id": "4decc4a1",
   "metadata": {},
   "source": [
    "TASK 6.2: ERROR HANDLING"
   ]
  },
  {
   "cell_type": "code",
   "execution_count": 89,
   "id": "7024456f",
   "metadata": {},
   "outputs": [
    {
     "name": "stdout",
     "output_type": "stream",
     "text": [
      "Write Error (Validation failed): Document failed validation, full error: {'index': 0, 'code': 121, 'errmsg': 'Document failed validation', 'errInfo': {'failingDocumentId': ObjectId('684acbb09d7952d6765563ab'), 'details': {'operatorName': '$jsonSchema', 'schemaRulesNotSatisfied': [{'operatorName': 'properties', 'propertiesNotSatisfied': [{'propertyName': 'role', 'description': 'Role must be student or instructor', 'details': [{'operatorName': 'enum', 'specifiedAs': {'enum': ['student', 'instructor']}, 'reason': 'value was not found in enum', 'consideredValue': 'admin'}]}, {'propertyName': 'date_joined', 'details': [{'operatorName': 'bsonType', 'specifiedAs': {'bsonType': 'date'}, 'reason': 'type did not match', 'consideredValue': '2024-12-17T15:39:44.000+00:00', 'consideredType': 'string'}]}]}, {'operatorName': 'required', 'specifiedAs': {'required': ['user_id', 'email', 'first_name', 'last_name', 'role', 'date_joined', 'is_active']}, 'missingProperties': ['is_active']}]}}}\n"
     ]
    }
   ],
   "source": [
    "#Error handling \n",
    "\n",
    "#WRITING QUERIES THAT HANDLES THE FOLLOWING COMMON ERRORS::\n",
    "#1 Duplicate key error\n",
    "#2 Invalid data type insertion\n",
    "#3 Missing required fields\n",
    "\n",
    "\n",
    "from pymongo.errors import DuplicateKeyError, WriteError, WriteConcernError\n",
    "\n",
    "try:\n",
    "    db.users_validated.insert_one({\n",
    "        \n",
    "        \"_id\": ObjectId(\"684acbb09d7952d6765563ab\"),  \n",
    "        \"user_id\": \"U003\",\n",
    "        \"email\": \"mossdennis@example.org\", \n",
    "        \"first_name\": \"Laura\",\n",
    "        \"last_name\": \"Davis\",\n",
    "        \"role\": \"admin\",  \n",
    "        \"date_joined\": \"2024-12-17T15:39:44.000+00:00\",  \n",
    "       \n",
    "    })\n",
    "\n",
    "except DuplicateKeyError as e:\n",
    "    print(\"Duplicate Key Error:\", e)\n",
    "\n",
    "except WriteError as e:\n",
    "    print(\"Write Error (Validation failed):\", e)\n",
    "\n",
    "except WriteConcernError as e:\n",
    "    print(\" Write Concern Error:\", e)\n",
    "\n",
    "except Exception as e:\n",
    "    print(\" General Error:\", e)"
   ]
  },
  {
   "cell_type": "markdown",
   "id": "3faaaeb1",
   "metadata": {},
   "source": [
    "# BONUS CHALLENGE! BONUS CHALLENGE!! BONUS CHALLENGE!!!\n",
    "\n",
    "1. Implement text search functionality for course content"
   ]
  },
  {
   "cell_type": "code",
   "execution_count": 90,
   "id": "5dc99c2c",
   "metadata": {},
   "outputs": [
    {
     "name": "stdout",
     "output_type": "stream",
     "text": [
      " Unit Testing in Python - Design and implement scalable APIs and microservices using F...\n",
      " Unit Testing in Python - Gain hands-on experience solving data pipeline problems in r...\n"
     ]
    }
   ],
   "source": [
    "#Implement text search functionality for course content \n",
    "\n",
    "#Step 1: Create Text Index on Course Fields\n",
    "\n",
    "courses_col.create_index([\n",
    "    (\"title\", \"text\"),\n",
    "    (\"description\", \"text\"),\n",
    "    (\"tags\", \"text\")\n",
    "])\n",
    "\n",
    "\n",
    "#Step 2: Text Search Query\n",
    "\n",
    "def search_courses_by_text(keyword):\n",
    "    results = courses_col.find({\n",
    "        \"$text\": { \"$search\": keyword }\n",
    "    })\n",
    "\n",
    "    for course in results:\n",
    "        print(f\" {course['title']} - {course['description'][:60]}...\")\n",
    "\n",
    "\n",
    "\n",
    "#Example usage\n",
    "\n",
    "search_courses_by_text(\"python ETL\")"
   ]
  },
  {
   "cell_type": "markdown",
   "id": "3f3a541c",
   "metadata": {},
   "source": [
    "2. Recommendation system using Aggregation"
   ]
  },
  {
   "cell_type": "code",
   "execution_count": 91,
   "id": "5aec7d6e",
   "metadata": {},
   "outputs": [
    {
     "name": "stdout",
     "output_type": "stream",
     "text": [
      "\n",
      " Course Recommendations for Gina Brown\n"
     ]
    }
   ],
   "source": [
    "#Recommendation system using Aggregation \n",
    "\n",
    "#Match User’s Skills to Course Tags\n",
    "\n",
    "def recommend_courses(user_id):\n",
    "    # Step 1: Get user's skills\n",
    "    user = users_col.find_one({\"user_id\": user_id})\n",
    "    if not user:\n",
    "        print(\" User not found.\")\n",
    "        return\n",
    "\n",
    "    user_skills = user[\"profile\"][\"skills\"]\n",
    "\n",
    "    # Step 2: Match courses using aggregation\n",
    "    pipeline = [\n",
    "        {\n",
    "            \"$match\": {\n",
    "                \"tags\": {\"$in\": user_skills},\n",
    "                \"is_published\": True\n",
    "            }\n",
    "        },\n",
    "        {\n",
    "            \"$addFields\": {\n",
    "                \"matched_skills\": {\n",
    "                    \"$size\": {\"$setIntersection\": [\"$tags\", user_skills]}\n",
    "                }\n",
    "            }\n",
    "        },{ \"$sort\": { \"matched_skills\": -1, \"price\": 1 } },  # prioritize relevance + cheap\n",
    "        { \"$limit\": 5 }  # Top 5 recommendations\n",
    "    ]\n",
    "\n",
    "    recommendations = courses_col.aggregate(pipeline)\n",
    "\n",
    "    print(f\"\\n Course Recommendations for {user['first_name']} {user['last_name']}\")\n",
    "    for course in recommendations:\n",
    "        print(f\" {course['title']} (Matched Skills: {course['matched_skills']})\")\n",
    "\n",
    "\n",
    "#Example usage \n",
    "\n",
    "recommend_courses(\"U005\")"
   ]
  },
  {
   "cell_type": "markdown",
   "id": "36574c76",
   "metadata": {},
   "source": [
    "3. Design a data archiving strategy for old enrollments"
   ]
  },
  {
   "cell_type": "code",
   "execution_count": 92,
   "id": "a30e1aaa",
   "metadata": {},
   "outputs": [
    {
     "name": "stdout",
     "output_type": "stream",
     "text": [
      "📭 No old enrollments to archive.\n"
     ]
    }
   ],
   "source": [
    "#Design a data archiving strategy for old enrollments\n",
    "\n",
    "#Step 1: Create Archive Collection\n",
    "\n",
    "archived_col = db[\"archived_enrollments\"]\n",
    "\n",
    "\n",
    "#Step 2: Define the Archiving Logic\n",
    "\n",
    "def archive_old_enrollments():\n",
    "    # 6 months ago\n",
    "    six_months_ago = datetime.now() - timedelta(days=180)\n",
    "\n",
    "    # Find old enrollments\n",
    "    old_enrollments = list(enrollments_col.find({\n",
    "        \"enrolled_on\": { \"$lt\": six_months_ago }\n",
    "    }))\n",
    "\n",
    "    if not old_enrollments:\n",
    "        print(\"📭 No old enrollments to archive.\")\n",
    "        return\n",
    "\n",
    "    # Insert into archive\n",
    "    archived_col.insert_many(old_enrollments)\n",
    "\n",
    "    # Delete from main collection\n",
    "    ids_to_delete = [doc[\"_id\"] for doc in old_enrollments]\n",
    "    enrollments_col.delete_many({ \"_id\": { \"$in\": ids_to_delete } })\n",
    "\n",
    "    print(f\" Archived {len(old_enrollments)} old enrollments.\")\n",
    "\n",
    "\n",
    "\n",
    "#Example usage\n",
    "\n",
    "archive_old_enrollments()"
   ]
  },
  {
   "cell_type": "markdown",
   "id": "ebd48d25",
   "metadata": {},
   "source": [
    "4. Implement Geospatial queries for location based course recommendations"
   ]
  },
  {
   "cell_type": "code",
   "execution_count": 96,
   "id": "6fd6220b",
   "metadata": {},
   "outputs": [
    {
     "name": "stdout",
     "output_type": "stream",
     "text": [
      "\n",
      " Recommended Courses within 8 km:\n"
     ]
    }
   ],
   "source": [
    "#implement Geospatial queries for location based course recommendations\n",
    "\n",
    "\n",
    "#Step 1: Update Courses with Geo Data\n",
    "\n",
    "# Example: Update some existing courses\n",
    "courses_col.update_many(\n",
    "    {},\n",
    "    [{\n",
    "        \"$set\": {\n",
    "            \"location\": {\n",
    "                \"type\": \"Point\",\n",
    "                \"coordinates\": [\n",
    "                    random.uniform(7.40, 7.60),  #abuja longitude \n",
    "                    random.uniform(6.40, 6.70) #lattitude   \n",
    "                ]\n",
    "            }\n",
    "        }\n",
    "    }]\n",
    ")\n",
    "\n",
    "\n",
    "\n",
    "#Step 2: Create 2dsphere Index\n",
    "courses_col.create_index([(\"location\", \"2dsphere\")])\n",
    "\n",
    "\n",
    "#Step 3: Query for Nearby Courses\n",
    "\n",
    "def recommend_nearby_courses(user_coordinates, max_distance_km=10):\n",
    "    results = courses_col.find({\n",
    "        \"location\": {\n",
    "            \"$near\": {\n",
    "                \"$geometry\": {\n",
    "                    \"type\": \"Point\",\n",
    "                    \"coordinates\": user_coordinates\n",
    "                },\n",
    "                \"$maxDistance\": max_distance_km * 1000 \n",
    "            }\n",
    "        },\n",
    "        \"is_published\": True\n",
    "    })\n",
    "\n",
    "    print(f\"\\n Recommended Courses within {max_distance_km} km:\")\n",
    "    for course in results:\n",
    "        print(f\" {course['title']} - Category: {course['category']}\")\n",
    "\n",
    "\n",
    "\n",
    "\n",
    "#Example usage \n",
    "\n",
    "# Example: user near Asokoro, Abuja\n",
    "user_coords = [7.49508, 9.05785]  # [longitude, latitude]\n",
    "recommend_nearby_courses(user_coords, max_distance_km=8)"
   ]
  },
  {
   "cell_type": "code",
   "execution_count": null,
   "id": "0a88c2f1",
   "metadata": {},
   "outputs": [],
   "source": [
    "sample_data = {}\n",
    "\n",
    "for col_name in collections:\n",
    "    col = db[col_name]\n",
    "    sample_data[col_name] = list(col.find())\n",
    "\n",
    "with open(\"sample_data.json\", \"w\") as f:\n",
    "    json.dump(sample_data, f, default=json_util.default, indent=4)\n",
    "\n",
    "print(\"✅ All data exported to sample_data.json\")\n"
   ]
  }
 ],
 "metadata": {
  "kernelspec": {
   "display_name": "eduhub",
   "language": "python",
   "name": "python3"
  },
  "language_info": {
   "codemirror_mode": {
    "name": "ipython",
    "version": 3
   },
   "file_extension": ".py",
   "mimetype": "text/x-python",
   "name": "python",
   "nbconvert_exporter": "python",
   "pygments_lexer": "ipython3",
   "version": "3.10.18"
  }
 },
 "nbformat": 4,
 "nbformat_minor": 5
}
